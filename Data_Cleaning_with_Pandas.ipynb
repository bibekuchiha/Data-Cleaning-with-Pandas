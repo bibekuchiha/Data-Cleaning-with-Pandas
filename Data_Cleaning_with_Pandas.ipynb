{
  "nbformat": 4,
  "nbformat_minor": 0,
  "metadata": {
    "colab": {
      "name": "Data Cleaning with Pandas.ipynb",
      "provenance": [],
      "authorship_tag": "ABX9TyMdRNF52e0eBMlTs4IDBJ5f",
      "include_colab_link": true
    },
    "kernelspec": {
      "name": "python3",
      "display_name": "Python 3"
    }
  },
  "cells": [
    {
      "cell_type": "markdown",
      "metadata": {
        "id": "view-in-github",
        "colab_type": "text"
      },
      "source": [
        "<a href=\"https://colab.research.google.com/github/bibekuchiha/Data-Cleaning-with-Pandas/blob/master/Data_Cleaning_with_Pandas.ipynb\" target=\"_parent\"><img src=\"https://colab.research.google.com/assets/colab-badge.svg\" alt=\"Open In Colab\"/></a>"
      ]
    },
    {
      "cell_type": "markdown",
      "metadata": {
        "id": "EDbBhgcDQVBT",
        "colab_type": "text"
      },
      "source": [
        "#DATA CLEANING WITH PANDAS\n",
        "##Introduction\n",
        "A huge part of data science involves acquiring raw data and getting it into a form ready for analysis. Some have estimated that data scientists spend 80% of their time cleaning and manipulating data, and only 20% of their time actually analyzing it or building models from it.\n",
        "\n",
        "When we receive raw data, we have to do a number of things before we’re ready to analyze it, possibly including:\n",
        "\n",
        "* diagnosing the “tidiness” of the data — how much data cleaning we will have to do\n",
        "* reshaping the data — getting right rows and columns for effective analysis\n",
        "combining multiple files\n",
        "* changing the types of values — how we fix a column where numerical values are stored as strings, for example\n",
        "* dropping or filling missing values - how we deal with data that is incomplete or missing\n",
        "* manipulating strings to represent the data better\n",
        "\n",
        "We will go through the techniques data scientists use to accomplish these goals by looking at some “unclean” datasets and trying to get them into a good, clean state"
      ]
    },
    {
      "cell_type": "markdown",
      "metadata": {
        "id": "tqhVmBzTRyQY",
        "colab_type": "text"
      },
      "source": [
        "###Instructions\n",
        "We have provided an example of data representing exam scores from 1000 students in an online math class.\n",
        "\n",
        "These DataFrames are hard to work with. They’re separated into multiple tables, and the values don’t lend themselves well to analysis. Try to think about how you would plot the exam score average against the age of the students in the class. This would not be easy!\n",
        "\n",
        "In the next exercises, we’ll transform this data so that performing a task like that visualization would be simple."
      ]
    },
    {
      "cell_type": "code",
      "metadata": {
        "id": "oKUsbKIMR9fu",
        "colab_type": "code",
        "colab": {
          "base_uri": "https://localhost:8080/",
          "height": 419
        },
        "outputId": "98521875-af56-4fae-d79e-3d9e5a0e91fc"
      },
      "source": [
        "import pandas as pd\n",
        "\n",
        "students0 = pd.read_csv(\"file0.csv\")\n",
        "students1 = pd.read_csv(\"file1.csv\")\n",
        "\n",
        "students0"
      ],
      "execution_count": 44,
      "outputs": [
        {
          "output_type": "execute_result",
          "data": {
            "text/html": [
              "<div>\n",
              "<style scoped>\n",
              "    .dataframe tbody tr th:only-of-type {\n",
              "        vertical-align: middle;\n",
              "    }\n",
              "\n",
              "    .dataframe tbody tr th {\n",
              "        vertical-align: top;\n",
              "    }\n",
              "\n",
              "    .dataframe thead th {\n",
              "        text-align: right;\n",
              "    }\n",
              "</style>\n",
              "<table border=\"1\" class=\"dataframe\">\n",
              "  <thead>\n",
              "    <tr style=\"text-align: right;\">\n",
              "      <th></th>\n",
              "      <th>Unnamed: 0</th>\n",
              "      <th>full_name</th>\n",
              "      <th>gender_age</th>\n",
              "      <th>Fractions</th>\n",
              "      <th>Probability</th>\n",
              "      <th>grade</th>\n",
              "    </tr>\n",
              "  </thead>\n",
              "  <tbody>\n",
              "    <tr>\n",
              "      <th>0</th>\n",
              "      <td>0</td>\n",
              "      <td>Barrett Feragh</td>\n",
              "      <td>M14</td>\n",
              "      <td>76%</td>\n",
              "      <td>72%</td>\n",
              "      <td>9th grade</td>\n",
              "    </tr>\n",
              "    <tr>\n",
              "      <th>1</th>\n",
              "      <td>1</td>\n",
              "      <td>Llewellyn Keech</td>\n",
              "      <td>M14</td>\n",
              "      <td>83%</td>\n",
              "      <td>87%</td>\n",
              "      <td>12th grade</td>\n",
              "    </tr>\n",
              "    <tr>\n",
              "      <th>2</th>\n",
              "      <td>2</td>\n",
              "      <td>Delilah Sowthcote</td>\n",
              "      <td>F16</td>\n",
              "      <td>90%</td>\n",
              "      <td>79%</td>\n",
              "      <td>10th grade</td>\n",
              "    </tr>\n",
              "    <tr>\n",
              "      <th>3</th>\n",
              "      <td>3</td>\n",
              "      <td>Terrell Geri</td>\n",
              "      <td>M15</td>\n",
              "      <td>80%</td>\n",
              "      <td>86%</td>\n",
              "      <td>11th grade</td>\n",
              "    </tr>\n",
              "    <tr>\n",
              "      <th>4</th>\n",
              "      <td>4</td>\n",
              "      <td>Gram Hallewell</td>\n",
              "      <td>M14</td>\n",
              "      <td>67%</td>\n",
              "      <td>78%</td>\n",
              "      <td>10th grade</td>\n",
              "    </tr>\n",
              "    <tr>\n",
              "      <th>...</th>\n",
              "      <td>...</td>\n",
              "      <td>...</td>\n",
              "      <td>...</td>\n",
              "      <td>...</td>\n",
              "      <td>...</td>\n",
              "      <td>...</td>\n",
              "    </tr>\n",
              "    <tr>\n",
              "      <th>95</th>\n",
              "      <td>95</td>\n",
              "      <td>Halley Clunie</td>\n",
              "      <td>F14</td>\n",
              "      <td>73%</td>\n",
              "      <td>82%</td>\n",
              "      <td>12th grade</td>\n",
              "    </tr>\n",
              "    <tr>\n",
              "      <th>96</th>\n",
              "      <td>96</td>\n",
              "      <td>Gale Mullender</td>\n",
              "      <td>F17</td>\n",
              "      <td>72%</td>\n",
              "      <td>81%</td>\n",
              "      <td>12th grade</td>\n",
              "    </tr>\n",
              "    <tr>\n",
              "      <th>97</th>\n",
              "      <td>97</td>\n",
              "      <td>Ryun Denne</td>\n",
              "      <td>M17</td>\n",
              "      <td>74%</td>\n",
              "      <td>78%</td>\n",
              "      <td>11th grade</td>\n",
              "    </tr>\n",
              "    <tr>\n",
              "      <th>98</th>\n",
              "      <td>98</td>\n",
              "      <td>Cazzie Potapczuk</td>\n",
              "      <td>M14</td>\n",
              "      <td>71%</td>\n",
              "      <td>78%</td>\n",
              "      <td>10th grade</td>\n",
              "    </tr>\n",
              "    <tr>\n",
              "      <th>99</th>\n",
              "      <td>99</td>\n",
              "      <td>Verina Pasque</td>\n",
              "      <td>F18</td>\n",
              "      <td>48%</td>\n",
              "      <td>77%</td>\n",
              "      <td>10th grade</td>\n",
              "    </tr>\n",
              "  </tbody>\n",
              "</table>\n",
              "<p>100 rows × 6 columns</p>\n",
              "</div>"
            ],
            "text/plain": [
              "    Unnamed: 0          full_name gender_age Fractions Probability       grade\n",
              "0            0     Barrett Feragh        M14       76%         72%   9th grade\n",
              "1            1    Llewellyn Keech        M14       83%         87%  12th grade\n",
              "2            2  Delilah Sowthcote        F16       90%         79%  10th grade\n",
              "3            3       Terrell Geri        M15       80%         86%  11th grade\n",
              "4            4     Gram Hallewell        M14       67%         78%  10th grade\n",
              "..         ...                ...        ...       ...         ...         ...\n",
              "95          95      Halley Clunie        F14       73%         82%  12th grade\n",
              "96          96     Gale Mullender        F17       72%         81%  12th grade\n",
              "97          97         Ryun Denne        M17       74%         78%  11th grade\n",
              "98          98   Cazzie Potapczuk        M14       71%         78%  10th grade\n",
              "99          99      Verina Pasque        F18       48%         77%  10th grade\n",
              "\n",
              "[100 rows x 6 columns]"
            ]
          },
          "metadata": {
            "tags": []
          },
          "execution_count": 44
        }
      ]
    },
    {
      "cell_type": "markdown",
      "metadata": {
        "id": "wmHvrw2MSONl",
        "colab_type": "text"
      },
      "source": [
        "###Diagnose the Data\n",
        "We often describe data that is easy to analyze and visualize as “tidy data”. What does it mean to have tidy data?\n",
        "\n",
        "For data to be tidy, it must have:\n",
        "\n",
        "Each variable as a separate column\n",
        "Each row as a separate observation\n",
        "For example, we would want to reshape a table like:\n",
        "\n",
        "\n",
        " Account\tCheckings\tSavings\n",
        "\n",
        "“12456543”\t8500\t8900\n",
        "\n",
        "“12283942”\t6410\t8020\n",
        "\n",
        "“12839485”\t78000\t92000\n",
        "\n",
        "Into a table that looks more like:\n",
        "\n",
        "Account\tAccount Type\tAmount\n",
        "\n",
        "“12456543”\t“Checking”\t8500\n",
        "\n",
        "“12456543”\t“Savings”\t8900\n",
        "\n",
        "“12283942”\t“Checking”\t6410\n",
        "\n",
        "“12283942”\t“Savings”\t8020\n",
        "\n",
        "“12839485”\t“Checking”\t78000\n",
        "\n",
        "“12839485”\t“Savings”\t920000\n",
        "\n",
        "The first step of diagnosing whether or not a dataset is tidy is using pandas functions to explore and probe the dataset.\n",
        "\n",
        "You’ve seen most of the functions we often use to diagnose a dataset for cleaning. Some of the most useful ones are:\n",
        "\n",
        "* .head() — display the first 5 rows of the table\n",
        "* .info() — display a summary of the table\n",
        "* .describe() — display the summary statistics of the table\n",
        "* .columns — display the column names of the table\n",
        "* .value_counts() — display the distinct values for a column"
      ]
    },
    {
      "cell_type": "markdown",
      "metadata": {
        "id": "7igZz5LFSr-E",
        "colab_type": "text"
      },
      "source": [
        "##Dealing with Multiple Files\n",
        "Often, you have the same data separated out into multiple files.\n",
        "\n",
        "Let’s say that we have a ton of files following the filename structure: 'file1.csv', 'file2.csv', 'file3.csv', and so on. The power of pandas is mainly in being able to manipulate large amounts of structured data, so we want to be able to get all of the relevant information into one table so that we can analyze the aggregate data.\n",
        "\n",
        "We can combine the use of glob, a Python library for working with files, with pandas to organize this data better. glob can open multiple files by using regex matching to get the filenames:\n",
        "\n",
        "\n",
        "```\n",
        "# This is formatted as code\n",
        "\n",
        "\n",
        "import glob\n",
        "\n",
        "files = glob.glob(\"file*.csv\")\n",
        "\n",
        "df_list = []\n",
        "for filename in files:\n",
        "  data = pd.read_csv(filename)\n",
        "  df_list.append(data)\n",
        "\n",
        "df = pd.concat(df_list)\n",
        "\n",
        "print(files)\n",
        "```\n",
        "\n",
        "This code goes through any file that starts with 'file' and has an extension of .csv. It opens each file, reads the data into a DataFrame, and then concatenates all of those DataFrames together."
      ]
    },
    {
      "cell_type": "markdown",
      "metadata": {
        "id": "1qgvVdPbS3Tr",
        "colab_type": "text"
      },
      "source": [
        "1.\n",
        "We have 10 different files containing 100 students each. These files follow the naming structure:\n",
        "\n",
        "exams0.csv\n",
        "\n",
        "exams1.csv\n",
        "\n",
        "… up to exams9.csv\n",
        "\n",
        "We are going to import each file using pandas, and combine all of the entries into one DataFrame.\n",
        "\n",
        "First, create a variable called student_files and set it equal to the glob() of all of the csv files we want to import."
      ]
    },
    {
      "cell_type": "code",
      "metadata": {
        "id": "HOhobMRCS7jj",
        "colab_type": "code",
        "colab": {}
      },
      "source": [
        "import pandas as pd\n",
        "import glob\n",
        "\n",
        "student_files  = glob.glob('file*.csv')\n"
      ],
      "execution_count": 45,
      "outputs": []
    },
    {
      "cell_type": "markdown",
      "metadata": {
        "id": "zQuOejBGTU_1",
        "colab_type": "text"
      },
      "source": [
        "2. Create an empty list called df_list that will store all of the DataFrames we make from the files exams0.csv through exams9.csv.\n",
        "\n",
        "3. Loop through the filenames in student_files, and create a DataFrame from each file. Append this DataFrame to df_list."
      ]
    },
    {
      "cell_type": "code",
      "metadata": {
        "id": "x1Jfa37nTXgc",
        "colab_type": "code",
        "colab": {}
      },
      "source": [
        "df_list = []\n",
        "for files in student_files:\n",
        "  data = pd.read_csv(files)\n",
        "  df_list.append(data)"
      ],
      "execution_count": 46,
      "outputs": []
    },
    {
      "cell_type": "markdown",
      "metadata": {
        "id": "h0aLV-LITjMR",
        "colab_type": "text"
      },
      "source": [
        "4.\n",
        "Concatenate all of the DataFrames in df_list into one DataFrame called students."
      ]
    },
    {
      "cell_type": "code",
      "metadata": {
        "id": "ADB4bJBcTjvL",
        "colab_type": "code",
        "colab": {
          "base_uri": "https://localhost:8080/",
          "height": 272
        },
        "outputId": "1b2fb6f6-cc86-4608-e2b7-5c4d4646c84c"
      },
      "source": [
        "students=pd.concat(df_list)\n",
        "print(students)\n",
        "print(len(students))"
      ],
      "execution_count": 47,
      "outputs": [
        {
          "output_type": "stream",
          "text": [
            "    Unnamed: 0          full_name gender_age Fractions Probability       grade\n",
            "0            0  Kizzee Kensington        F17       68%         76%  12th grade\n",
            "1            1   Garret Hartfleet        M17       68%         90%  12th grade\n",
            "2            2    Ingrid Meatyard        F18       65%         88%  12th grade\n",
            "3            3  Verney Sainsberry        M18       85%         76%   9th grade\n",
            "4            4    Lonni Bruhnicke        F16       71%         81%   9th grade\n",
            "..         ...                ...        ...       ...         ...         ...\n",
            "95          95   Brig Meadowcroft        M16       84%         99%  12th grade\n",
            "96          96   Isidor Abrashkov        M14       83%         78%  11th grade\n",
            "97          97       Siana McKune        F17       72%         76%  12th grade\n",
            "98          98        Tuck Lyford        M17       73%         84%  11th grade\n",
            "99          99        Janie Paris        F17       68%         82%  11th grade\n",
            "\n",
            "[900 rows x 6 columns]\n",
            "900\n"
          ],
          "name": "stdout"
        }
      ]
    },
    {
      "cell_type": "markdown",
      "metadata": {
        "id": "xrJMOyvuT31t",
        "colab_type": "text"
      },
      "source": [
        "##Reshaping your Data\n",
        "Since we want\n",
        "\n",
        "* Each variable as a separate column\n",
        "* Each row as a separate observation\n",
        "\n",
        "We would want to reshape a table like:\n",
        "\n",
        "Account\tChecking\tSavings\n",
        "\n",
        "“12456543”\t8500\t8900\n",
        "\n",
        "“12283942”\t6410\t8020\n",
        "\n",
        "“12839485”\t78000\t92000\n",
        "\n",
        "Into a table that looks more like:\n",
        "\n",
        "Account\tAccount Type\tAmount\n",
        "\n",
        "“12456543”\t“Checking”\t8500\n",
        "\n",
        "“12456543”\t“Savings”\t8900\n",
        "\n",
        "“12283942”\t“Checking”\t6410\n",
        "\n",
        "“12283942”\t“Savings”\t8020\n",
        "\n",
        "“12839485”\t“Checking”\t78000\n",
        "\n",
        "“12839485”\t“Savings”\t920000\n",
        "\n",
        "We can use pd.melt() to do this transformation. .melt() takes in a DataFrame, and the columns to unpack:\n",
        "\n",
        "\n",
        "```\n",
        "pd.melt(frame=df, id_vars='name', value_vars=['Checking',\n",
        "'Savings'], value_name=\"Amount\", var_name=\"Account Type\")\n",
        "```\n",
        "\n",
        "The parameters you provide are:\n",
        "\n",
        "* frame: the DataFrame you want to melt\n",
        "* id_vars: the column(s) of the old DataFrame to preserve\n",
        "* value_vars: the column(s) of the old DataFrame that you want to turn into variables\n",
        "* value_name: what to call the column of the new DataFrame that stores the values\n",
        "* var_name: what to call the column of the new DataFrame that stores the variables\n",
        "\n",
        "The default names may work in certain situations, but it’s best to always have data that is self-explanatory. Thus, we often use .columns() to rename the columns after melting:\n",
        "```\n",
        "df.columns([\"Account\", \"Account Type\", \"Amount\"])\n",
        "```\n"
      ]
    },
    {
      "cell_type": "code",
      "metadata": {
        "id": "BuE9vOqSTpBJ",
        "colab_type": "code",
        "colab": {
          "base_uri": "https://localhost:8080/",
          "height": 204
        },
        "outputId": "724eacb0-de20-46c2-da79-0b8b7af189fc"
      },
      "source": [
        "from students import students\n",
        "\n",
        "#Print out the columns of students.\n",
        "students.head()"
      ],
      "execution_count": 48,
      "outputs": [
        {
          "output_type": "execute_result",
          "data": {
            "text/html": [
              "<div>\n",
              "<style scoped>\n",
              "    .dataframe tbody tr th:only-of-type {\n",
              "        vertical-align: middle;\n",
              "    }\n",
              "\n",
              "    .dataframe tbody tr th {\n",
              "        vertical-align: top;\n",
              "    }\n",
              "\n",
              "    .dataframe thead th {\n",
              "        text-align: right;\n",
              "    }\n",
              "</style>\n",
              "<table border=\"1\" class=\"dataframe\">\n",
              "  <thead>\n",
              "    <tr style=\"text-align: right;\">\n",
              "      <th></th>\n",
              "      <th>full_name</th>\n",
              "      <th>gender_age</th>\n",
              "      <th>fractions</th>\n",
              "      <th>probability</th>\n",
              "      <th>grade</th>\n",
              "    </tr>\n",
              "  </thead>\n",
              "  <tbody>\n",
              "    <tr>\n",
              "      <th>0</th>\n",
              "      <td>Moses Kirckman</td>\n",
              "      <td>M14</td>\n",
              "      <td>69%</td>\n",
              "      <td>89%</td>\n",
              "      <td>11th grade</td>\n",
              "    </tr>\n",
              "    <tr>\n",
              "      <th>1</th>\n",
              "      <td>Timofei Strowan</td>\n",
              "      <td>M18</td>\n",
              "      <td>63%</td>\n",
              "      <td>76%</td>\n",
              "      <td>11th grade</td>\n",
              "    </tr>\n",
              "    <tr>\n",
              "      <th>2</th>\n",
              "      <td>Silvain Poll</td>\n",
              "      <td>M18</td>\n",
              "      <td>69%</td>\n",
              "      <td>77%</td>\n",
              "      <td>9th grade</td>\n",
              "    </tr>\n",
              "    <tr>\n",
              "      <th>3</th>\n",
              "      <td>Lezley Pinxton</td>\n",
              "      <td>M18</td>\n",
              "      <td>NaN</td>\n",
              "      <td>72%</td>\n",
              "      <td>11th grade</td>\n",
              "    </tr>\n",
              "    <tr>\n",
              "      <th>4</th>\n",
              "      <td>Bernadene Saunper</td>\n",
              "      <td>F17</td>\n",
              "      <td>72%</td>\n",
              "      <td>84%</td>\n",
              "      <td>11th grade</td>\n",
              "    </tr>\n",
              "  </tbody>\n",
              "</table>\n",
              "</div>"
            ],
            "text/plain": [
              "           full_name gender_age fractions probability       grade\n",
              "0     Moses Kirckman        M14       69%         89%  11th grade\n",
              "1    Timofei Strowan        M18       63%         76%  11th grade\n",
              "2       Silvain Poll        M18       69%         77%   9th grade\n",
              "3     Lezley Pinxton        M18       NaN         72%  11th grade\n",
              "4  Bernadene Saunper        F17       72%         84%  11th grade"
            ]
          },
          "metadata": {
            "tags": []
          },
          "execution_count": 48
        }
      ]
    },
    {
      "cell_type": "markdown",
      "metadata": {
        "id": "aMztkUS0U4WV",
        "colab_type": "text"
      },
      "source": [
        "There is a column for the scores on the fractions exam, and a column for the scores on the probabilities exam.\n",
        "\n",
        "We want to make each row an observation, so we want to transform this table to look like:\n",
        "\n",
        "full_name\texam\tscore\tgender_age\tgrade\n",
        "\n",
        "“First Student”\t“Fractions”\tscore%\t…\t…\n",
        "\n",
        "“First Student”\t“Probabilities”\tscore%\t…\t…\n",
        "\n",
        "“Second Student”\t“Fractions”\tscore%\t…\t…\n",
        "\n",
        "“Second Student”\t“Probabilities”\tscore%\t…\t…\n",
        "…\t…\t…\t\t\n",
        "\n",
        "Use pd.melt() to create a new table (still called students) that follows this structure."
      ]
    },
    {
      "cell_type": "code",
      "metadata": {
        "id": "GYRWqdy4U9_i",
        "colab_type": "code",
        "colab": {
          "base_uri": "https://localhost:8080/",
          "height": 204
        },
        "outputId": "1b6f87ab-f455-4f62-93b4-9e66951fc370"
      },
      "source": [
        "students = pd.melt(frame=students, \n",
        "                   id_vars=['full_name','gender_age','grade'], \n",
        "                   value_vars=['fractions', 'probability'], \n",
        "                   value_name='score', \n",
        "                   var_name='exam')\n",
        "\n",
        "students.head()\n"
      ],
      "execution_count": 49,
      "outputs": [
        {
          "output_type": "execute_result",
          "data": {
            "text/html": [
              "<div>\n",
              "<style scoped>\n",
              "    .dataframe tbody tr th:only-of-type {\n",
              "        vertical-align: middle;\n",
              "    }\n",
              "\n",
              "    .dataframe tbody tr th {\n",
              "        vertical-align: top;\n",
              "    }\n",
              "\n",
              "    .dataframe thead th {\n",
              "        text-align: right;\n",
              "    }\n",
              "</style>\n",
              "<table border=\"1\" class=\"dataframe\">\n",
              "  <thead>\n",
              "    <tr style=\"text-align: right;\">\n",
              "      <th></th>\n",
              "      <th>full_name</th>\n",
              "      <th>gender_age</th>\n",
              "      <th>grade</th>\n",
              "      <th>exam</th>\n",
              "      <th>score</th>\n",
              "    </tr>\n",
              "  </thead>\n",
              "  <tbody>\n",
              "    <tr>\n",
              "      <th>0</th>\n",
              "      <td>Moses Kirckman</td>\n",
              "      <td>M14</td>\n",
              "      <td>11th grade</td>\n",
              "      <td>fractions</td>\n",
              "      <td>69%</td>\n",
              "    </tr>\n",
              "    <tr>\n",
              "      <th>1</th>\n",
              "      <td>Timofei Strowan</td>\n",
              "      <td>M18</td>\n",
              "      <td>11th grade</td>\n",
              "      <td>fractions</td>\n",
              "      <td>63%</td>\n",
              "    </tr>\n",
              "    <tr>\n",
              "      <th>2</th>\n",
              "      <td>Silvain Poll</td>\n",
              "      <td>M18</td>\n",
              "      <td>9th grade</td>\n",
              "      <td>fractions</td>\n",
              "      <td>69%</td>\n",
              "    </tr>\n",
              "    <tr>\n",
              "      <th>3</th>\n",
              "      <td>Lezley Pinxton</td>\n",
              "      <td>M18</td>\n",
              "      <td>11th grade</td>\n",
              "      <td>fractions</td>\n",
              "      <td>NaN</td>\n",
              "    </tr>\n",
              "    <tr>\n",
              "      <th>4</th>\n",
              "      <td>Bernadene Saunper</td>\n",
              "      <td>F17</td>\n",
              "      <td>11th grade</td>\n",
              "      <td>fractions</td>\n",
              "      <td>72%</td>\n",
              "    </tr>\n",
              "  </tbody>\n",
              "</table>\n",
              "</div>"
            ],
            "text/plain": [
              "           full_name gender_age       grade       exam score\n",
              "0     Moses Kirckman        M14  11th grade  fractions   69%\n",
              "1    Timofei Strowan        M18  11th grade  fractions   63%\n",
              "2       Silvain Poll        M18   9th grade  fractions   69%\n",
              "3     Lezley Pinxton        M18  11th grade  fractions   NaN\n",
              "4  Bernadene Saunper        F17  11th grade  fractions   72%"
            ]
          },
          "metadata": {
            "tags": []
          },
          "execution_count": 49
        }
      ]
    },
    {
      "cell_type": "code",
      "metadata": {
        "id": "thALneF8VHJ3",
        "colab_type": "code",
        "colab": {
          "base_uri": "https://localhost:8080/",
          "height": 85
        },
        "outputId": "cfdf3604-3487-49d7-e72f-177cce74bc9f"
      },
      "source": [
        "print(students.columns)\n",
        "print(students.exam.value_counts())"
      ],
      "execution_count": 50,
      "outputs": [
        {
          "output_type": "stream",
          "text": [
            "Index(['full_name', 'gender_age', 'grade', 'exam', 'score'], dtype='object')\n",
            "fractions      1000\n",
            "probability    1000\n",
            "Name: exam, dtype: int64\n"
          ],
          "name": "stdout"
        }
      ]
    },
    {
      "cell_type": "markdown",
      "metadata": {
        "id": "ujsyXYXwVZvp",
        "colab_type": "text"
      },
      "source": [
        "##Dealing with Duplicates\n",
        "Often we see duplicated rows of data in the DataFrames we are working with. This could happen due to errors in data collection or in saving and loading the data.\n",
        "\n",
        "To check for duplicates, we can use the pandas function .duplicated(), which will return a Series telling us which rows are duplicate rows.\n",
        "\n",
        "Let’s say we have a DataFrame fruits that represents this table:\n",
        "\n",
        "item\tprice\tcalories:\n",
        "\n",
        "“banana”\t“$1”\t105\n",
        "\n",
        "“apple”\t“$0.75”\t95\n",
        "\n",
        "“apple”\t“$0.75”\t95\n",
        "\n",
        "“peach”\t“$3”\t55\n",
        "\n",
        "“peach”\t“$4”\t55\n",
        "\n",
        "“clementine”\t“$2.5”\t35\n",
        "\n",
        "If we call fruits.duplicated(), we would get the following table:\n",
        "\n",
        "id\tvalue\n",
        "\n",
        "0\tFalse\n",
        "\n",
        "1\tFalse\n",
        "\n",
        "2\tTrue\n",
        "\n",
        "3\tFalse\n",
        "\n",
        "4\tFalse\n",
        "\n",
        "5\tFalse\n",
        "\n",
        "We can see that row 2, which represents an \"apple\" with price \"$0.75\" and 95 calories, is a duplicate row. Every value in this row is the same as in another row.\n",
        "\n",
        "We can use the pandas .drop_duplicates() function to remove all rows that are duplicates of another row.\n",
        "\n",
        "If we call fruits.drop_duplicates(), we would get the table:\n",
        "\n",
        "item\tprice\tcalories\n",
        "\n",
        "“banana”\t“$1”\t105\n",
        "\n",
        "“apple”\t“$0.75”\t95\n",
        "\n",
        "“peach”\t“$3”\t55\n",
        "\n",
        "“peach”\t“$4”\t55\n",
        "\n",
        "“clementine”\t“$2.5”\t35\n",
        "\n",
        "The \"apple\" row was deleted because it was exactly the same as another row. But the two \"peach\" rows remain because there is a difference in the price column.\n",
        "\n",
        "If we wanted to remove every row with a duplicate value in the item column, we could specify a subset:\n",
        "\n",
        "fruits = fruits.drop_duplicates(subset=['item'])\n",
        "By default, this keeps the first occurrence of the duplicate:\n",
        "\n",
        "item\tprice\tcalories\n",
        "\n",
        "“banana”\t“$1”\t105\n",
        "\n",
        "“apple”\t“$0.75”\t95\n",
        "\n",
        "“peach”\t“$3”\t55\n",
        "\n",
        "“clementine”\t“$2.5”\t35\n",
        "\n",
        "Make sure that the columns you drop duplicates from are specifically the ones where duplicates don’t belong. You wouldn’t want to drop duplicates with the price column as a subset, for example, because it’s okay if multiple items cost the same amount!\n",
        "\n"
      ]
    },
    {
      "cell_type": "markdown",
      "metadata": {
        "id": "-ih9tJ6KVsHY",
        "colab_type": "text"
      },
      "source": [
        "It seems like in the data collection process, some rows may have been recorded twice. Use the .duplicated() function on the students DataFrame to make a Series object called duplicates."
      ]
    },
    {
      "cell_type": "code",
      "metadata": {
        "id": "Ns4V0XxrVoSR",
        "colab_type": "code",
        "colab": {
          "base_uri": "https://localhost:8080/",
          "height": 102
        },
        "outputId": "4c7c5c09-25b0-4b7b-8001-2238a34b6172"
      },
      "source": [
        "duplicates = students.duplicated()\n",
        "#Print out the .value_counts() of the duplicates\n",
        "print(duplicates.value_counts())\n",
        "#Update the value of students to be the students table with the duplicates dropped.\n",
        "students = students.drop_duplicates()\n",
        "#Use the .duplicated() function again to make a Series object called duplicates\n",
        "duplicates = students.duplicated()\n",
        "print(duplicates.value_counts())"
      ],
      "execution_count": 51,
      "outputs": [
        {
          "output_type": "stream",
          "text": [
            "False    1976\n",
            "True       24\n",
            "dtype: int64\n",
            "False    1976\n",
            "dtype: int64\n"
          ],
          "name": "stdout"
        }
      ]
    },
    {
      "cell_type": "markdown",
      "metadata": {
        "id": "YmeU60i7WCyf",
        "colab_type": "text"
      },
      "source": [
        "##Splitting by Index\n",
        "In trying to get clean data, we want to make sure each column represents one type of measurement. Often, multiple measurements are recorded in the same column, and we want to separate these out so that we can do individual analysis on each variable.\n",
        "\n",
        "Let’s say we have a column “birthday” with data formatted in MMDDYYYY format. In other words, “11011993” represents a birthday of November 1, 1993. We want to split this data into day, month, and year so that we can use these columns as separate features.\n",
        "\n",
        "In this case, we know the exact structure of these strings. The first two characters will always correspond to the month, the second two to the day, and the rest of the string will always correspond to year. We can easily break the data into three separate columns by splitting the strings using .str:\n",
        "\n",
        "```\n",
        "\n",
        "# Create the 'month' column\n",
        "df['month'] = df.birthday.str[0:2]\n",
        "\n",
        "# Create the 'day' column\n",
        "df['day'] = df.birthday.str[2:4]\n",
        "\n",
        "# Create the 'year' column\n",
        "df['year'] = df.birthday.str[4:]\n",
        "\n",
        "```\n",
        "The first command takes the first two characters of each value in the birthday column and puts it into a month column. The second command takes the second two characters of each value in the birthday column and puts it into a day column. The third command takes the rest of each value in the birthday column and puts it into a year column.\n",
        "\n",
        "This would transform a table like:\n",
        "\n",
        "id\tbirthday\n",
        "\n",
        "1011\t“12241989”\n",
        "\n",
        "1112\t“10311966”\n",
        "\n",
        "1113\t“01052011”\n",
        "\n",
        "into a table like:\n",
        "\n",
        "id\tbirthday\tmonth\tday\tyear\n",
        "\n",
        "1011\t“12241989”\t“12”\t“24”\t“1989”\n",
        "\n",
        "1112\t“10311966”\t“10”\t“31”\t“1966”\n",
        "\n",
        "1113\t“01052011”\t“01”\t“05”\t“2011”\n",
        "\n",
        "We will practice changing string columns into numerical columns (like converting \"10\" to 10) in a future exercise."
      ]
    },
    {
      "cell_type": "markdown",
      "metadata": {
        "id": "4Xzh7SFWWajK",
        "colab_type": "text"
      },
      "source": [
        "The column gender_age sounds like it contains both gender and age!"
      ]
    },
    {
      "cell_type": "code",
      "metadata": {
        "id": "fBkXDuioWbhv",
        "colab_type": "code",
        "colab": {
          "base_uri": "https://localhost:8080/",
          "height": 204
        },
        "outputId": "082c7efd-f6b2-4a2e-fabc-e42411d3679f"
      },
      "source": [
        "students['gender'] = students.gender_age.str[0]\n",
        "students['age'] = students.gender_age.str[1:]\n",
        "\n",
        "students[['full_name','gender','age','grade']].head()"
      ],
      "execution_count": 52,
      "outputs": [
        {
          "output_type": "execute_result",
          "data": {
            "text/html": [
              "<div>\n",
              "<style scoped>\n",
              "    .dataframe tbody tr th:only-of-type {\n",
              "        vertical-align: middle;\n",
              "    }\n",
              "\n",
              "    .dataframe tbody tr th {\n",
              "        vertical-align: top;\n",
              "    }\n",
              "\n",
              "    .dataframe thead th {\n",
              "        text-align: right;\n",
              "    }\n",
              "</style>\n",
              "<table border=\"1\" class=\"dataframe\">\n",
              "  <thead>\n",
              "    <tr style=\"text-align: right;\">\n",
              "      <th></th>\n",
              "      <th>full_name</th>\n",
              "      <th>gender</th>\n",
              "      <th>age</th>\n",
              "      <th>grade</th>\n",
              "    </tr>\n",
              "  </thead>\n",
              "  <tbody>\n",
              "    <tr>\n",
              "      <th>0</th>\n",
              "      <td>Moses Kirckman</td>\n",
              "      <td>M</td>\n",
              "      <td>14</td>\n",
              "      <td>11th grade</td>\n",
              "    </tr>\n",
              "    <tr>\n",
              "      <th>1</th>\n",
              "      <td>Timofei Strowan</td>\n",
              "      <td>M</td>\n",
              "      <td>18</td>\n",
              "      <td>11th grade</td>\n",
              "    </tr>\n",
              "    <tr>\n",
              "      <th>2</th>\n",
              "      <td>Silvain Poll</td>\n",
              "      <td>M</td>\n",
              "      <td>18</td>\n",
              "      <td>9th grade</td>\n",
              "    </tr>\n",
              "    <tr>\n",
              "      <th>3</th>\n",
              "      <td>Lezley Pinxton</td>\n",
              "      <td>M</td>\n",
              "      <td>18</td>\n",
              "      <td>11th grade</td>\n",
              "    </tr>\n",
              "    <tr>\n",
              "      <th>4</th>\n",
              "      <td>Bernadene Saunper</td>\n",
              "      <td>F</td>\n",
              "      <td>17</td>\n",
              "      <td>11th grade</td>\n",
              "    </tr>\n",
              "  </tbody>\n",
              "</table>\n",
              "</div>"
            ],
            "text/plain": [
              "           full_name gender age       grade\n",
              "0     Moses Kirckman      M  14  11th grade\n",
              "1    Timofei Strowan      M  18  11th grade\n",
              "2       Silvain Poll      M  18   9th grade\n",
              "3     Lezley Pinxton      M  18  11th grade\n",
              "4  Bernadene Saunper      F  17  11th grade"
            ]
          },
          "metadata": {
            "tags": []
          },
          "execution_count": 52
        }
      ]
    },
    {
      "cell_type": "markdown",
      "metadata": {
        "id": "OkaMCHWRWsQu",
        "colab_type": "text"
      },
      "source": [
        "##Splitting by Character\n",
        "Let’s say we have a column called “type” with data entries in the format \"admin_US\" or \"user_Kenya\". Just like we saw before, this column actually contains two types of data. One seems to be the user type (with values like “admin” or “user”) and one seems to be the country this user is in (with values like “US” or “Kenya”).\n",
        "\n",
        "We can no longer just split along the first 4 characters because admin and user are of different lengths. Instead, we know that we want to split along the \"_\". Using that, we can split this column into two separate, cleaner columns:\n",
        "\n",
        "\n",
        "``` \n",
        "\n",
        "# Create the 'str_split' column\n",
        "df['str_split'] = df.type.str.split('_')\n",
        "\n",
        "# Create the 'usertype' column\n",
        "df['usertype'] = df.str_split.str.get(0)\n",
        "\n",
        "# Create the 'country' column\n",
        "df['country'] = df.str_split.str.get(1)\n",
        "\n",
        "```\n",
        "\n",
        "This would transform a table like:\n",
        "\n",
        "id\ttype\n",
        "\n",
        "1011\t“user_Kenya”\n",
        "\n",
        "1112\t“admin_US”\n",
        "\n",
        "1113\t“moderator_UK”\n",
        "\n",
        "into a table like:\n",
        "\n",
        "id\ttype\tcountry\tusertype\n",
        "\n",
        "1011\t“user_Kenya”\t“Kenya”\t“user”\n",
        "\n",
        "1112\t“admin_US”\t“US”\t“admin”\n",
        "\n",
        "1113\t“moderator_UK”\t“UK”\t“moderator”\n"
      ]
    },
    {
      "cell_type": "markdown",
      "metadata": {
        "id": "fTRjyEh6W_mo",
        "colab_type": "text"
      },
      "source": [
        "The students’ names are stored in a column called full_name.\n",
        "\n",
        "We want to separate this data out into two new columns, first_name and last_name."
      ]
    },
    {
      "cell_type": "code",
      "metadata": {
        "id": "gsqecEA4XAMw",
        "colab_type": "code",
        "colab": {
          "base_uri": "https://localhost:8080/",
          "height": 204
        },
        "outputId": "eebe7361-b9ef-44c9-f0f6-a534bf5721ac"
      },
      "source": [
        "name_split = students.full_name.str.split(' ')\n",
        "students['first_name'] = name_split.str.get(0)\n",
        "students['last_name'] = name_split.str.get(1)\n",
        "students.head()"
      ],
      "execution_count": 53,
      "outputs": [
        {
          "output_type": "execute_result",
          "data": {
            "text/html": [
              "<div>\n",
              "<style scoped>\n",
              "    .dataframe tbody tr th:only-of-type {\n",
              "        vertical-align: middle;\n",
              "    }\n",
              "\n",
              "    .dataframe tbody tr th {\n",
              "        vertical-align: top;\n",
              "    }\n",
              "\n",
              "    .dataframe thead th {\n",
              "        text-align: right;\n",
              "    }\n",
              "</style>\n",
              "<table border=\"1\" class=\"dataframe\">\n",
              "  <thead>\n",
              "    <tr style=\"text-align: right;\">\n",
              "      <th></th>\n",
              "      <th>full_name</th>\n",
              "      <th>gender_age</th>\n",
              "      <th>grade</th>\n",
              "      <th>exam</th>\n",
              "      <th>score</th>\n",
              "      <th>gender</th>\n",
              "      <th>age</th>\n",
              "      <th>first_name</th>\n",
              "      <th>last_name</th>\n",
              "    </tr>\n",
              "  </thead>\n",
              "  <tbody>\n",
              "    <tr>\n",
              "      <th>0</th>\n",
              "      <td>Moses Kirckman</td>\n",
              "      <td>M14</td>\n",
              "      <td>11th grade</td>\n",
              "      <td>fractions</td>\n",
              "      <td>69%</td>\n",
              "      <td>M</td>\n",
              "      <td>14</td>\n",
              "      <td>Moses</td>\n",
              "      <td>Kirckman</td>\n",
              "    </tr>\n",
              "    <tr>\n",
              "      <th>1</th>\n",
              "      <td>Timofei Strowan</td>\n",
              "      <td>M18</td>\n",
              "      <td>11th grade</td>\n",
              "      <td>fractions</td>\n",
              "      <td>63%</td>\n",
              "      <td>M</td>\n",
              "      <td>18</td>\n",
              "      <td>Timofei</td>\n",
              "      <td>Strowan</td>\n",
              "    </tr>\n",
              "    <tr>\n",
              "      <th>2</th>\n",
              "      <td>Silvain Poll</td>\n",
              "      <td>M18</td>\n",
              "      <td>9th grade</td>\n",
              "      <td>fractions</td>\n",
              "      <td>69%</td>\n",
              "      <td>M</td>\n",
              "      <td>18</td>\n",
              "      <td>Silvain</td>\n",
              "      <td>Poll</td>\n",
              "    </tr>\n",
              "    <tr>\n",
              "      <th>3</th>\n",
              "      <td>Lezley Pinxton</td>\n",
              "      <td>M18</td>\n",
              "      <td>11th grade</td>\n",
              "      <td>fractions</td>\n",
              "      <td>NaN</td>\n",
              "      <td>M</td>\n",
              "      <td>18</td>\n",
              "      <td>Lezley</td>\n",
              "      <td>Pinxton</td>\n",
              "    </tr>\n",
              "    <tr>\n",
              "      <th>4</th>\n",
              "      <td>Bernadene Saunper</td>\n",
              "      <td>F17</td>\n",
              "      <td>11th grade</td>\n",
              "      <td>fractions</td>\n",
              "      <td>72%</td>\n",
              "      <td>F</td>\n",
              "      <td>17</td>\n",
              "      <td>Bernadene</td>\n",
              "      <td>Saunper</td>\n",
              "    </tr>\n",
              "  </tbody>\n",
              "</table>\n",
              "</div>"
            ],
            "text/plain": [
              "           full_name gender_age       grade  ... age first_name last_name\n",
              "0     Moses Kirckman        M14  11th grade  ...  14      Moses  Kirckman\n",
              "1    Timofei Strowan        M18  11th grade  ...  18    Timofei   Strowan\n",
              "2       Silvain Poll        M18   9th grade  ...  18    Silvain      Poll\n",
              "3     Lezley Pinxton        M18  11th grade  ...  18     Lezley   Pinxton\n",
              "4  Bernadene Saunper        F17  11th grade  ...  17  Bernadene   Saunper\n",
              "\n",
              "[5 rows x 9 columns]"
            ]
          },
          "metadata": {
            "tags": []
          },
          "execution_count": 53
        }
      ]
    },
    {
      "cell_type": "markdown",
      "metadata": {
        "id": "OdZwb7ehXJRd",
        "colab_type": "text"
      },
      "source": [
        "##Looking at Types\n",
        "Each column of a DataFrame can hold items of the same data type or dtype. The dtypes that pandas uses are: float, int, bool, datetime, timedelta, category and object. Often, we want to convert between types so that we can do better analysis. If a numerical category like \"num_users\" is stored as a Series of objects instead of ints, for example, it makes it more difficult to do something like make a line graph of users over time.\n",
        "\n",
        "To see the types of each column of a DataFrame, we can use:\n",
        "\n",
        "\n",
        "\n",
        "```\n",
        "print(df.dtypes)\n",
        "```\n",
        "\n",
        "\n",
        "For a DataFrame like this:\n",
        "\n",
        "item\tprice\tcalories\n",
        "\n",
        "“banana”\t“$1”\t105\n",
        "\n",
        "“apple”\t“$0.75”\t95\n",
        "\n",
        "“peach”\t“$3”\t55\n",
        "\n",
        "“clementine”\t“$2.5”\t35\n",
        "\n",
        "the .dtypes attribute would be:\n",
        "\n",
        "item        object\n",
        "\n",
        "price       object\n",
        "\n",
        "calories     int64\n",
        "\n",
        "dtype: object\n",
        "\n",
        "We can see that the dtype of the dtypes attribute itself is an object! It is a Series object, which you have already worked with. Series objects compose all DataFrames.\n",
        "\n",
        "We can see that the price column is made up of objects, which will probably make our analysis of price more difficult. We’ll look at how to convert columns into numeric values in the next few exercises."
      ]
    },
    {
      "cell_type": "code",
      "metadata": {
        "id": "vPrToD4fXTub",
        "colab_type": "code",
        "colab": {
          "base_uri": "https://localhost:8080/",
          "height": 187
        },
        "outputId": "974fc86c-92f0-4b8f-8ae8-71101d739c90"
      },
      "source": [
        "#Print out the .dtypes attribute.\n",
        "print(students.dtypes)\n"
      ],
      "execution_count": 54,
      "outputs": [
        {
          "output_type": "stream",
          "text": [
            "full_name     object\n",
            "gender_age    object\n",
            "grade         object\n",
            "exam          object\n",
            "score         object\n",
            "gender        object\n",
            "age           object\n",
            "first_name    object\n",
            "last_name     object\n",
            "dtype: object\n"
          ],
          "name": "stdout"
        }
      ]
    },
    {
      "cell_type": "code",
      "metadata": {
        "id": "quxsaoZ0Xfol",
        "colab_type": "code",
        "colab": {
          "base_uri": "https://localhost:8080/",
          "height": 374
        },
        "outputId": "a09854db-0f39-45ae-88b6-b8172a1efa5b"
      },
      "source": [
        "#Try to print out the mean of the score column of students.\n",
        "import numpy as np\n",
        "\n",
        "print(np.mean(students.score))"
      ],
      "execution_count": 55,
      "outputs": [
        {
          "output_type": "error",
          "ename": "TypeError",
          "evalue": "ignored",
          "traceback": [
            "\u001b[0;31m---------------------------------------------------------------------------\u001b[0m",
            "\u001b[0;31mTypeError\u001b[0m                                 Traceback (most recent call last)",
            "\u001b[0;32m<ipython-input-55-d84545d7da83>\u001b[0m in \u001b[0;36m<module>\u001b[0;34m()\u001b[0m\n\u001b[1;32m      2\u001b[0m \u001b[0;32mimport\u001b[0m \u001b[0mnumpy\u001b[0m \u001b[0;32mas\u001b[0m \u001b[0mnp\u001b[0m\u001b[0;34m\u001b[0m\u001b[0;34m\u001b[0m\u001b[0m\n\u001b[1;32m      3\u001b[0m \u001b[0;34m\u001b[0m\u001b[0m\n\u001b[0;32m----> 4\u001b[0;31m \u001b[0mprint\u001b[0m\u001b[0;34m(\u001b[0m\u001b[0mnp\u001b[0m\u001b[0;34m.\u001b[0m\u001b[0mmean\u001b[0m\u001b[0;34m(\u001b[0m\u001b[0mstudents\u001b[0m\u001b[0;34m.\u001b[0m\u001b[0mscore\u001b[0m\u001b[0;34m)\u001b[0m\u001b[0;34m)\u001b[0m\u001b[0;34m\u001b[0m\u001b[0;34m\u001b[0m\u001b[0m\n\u001b[0m",
            "\u001b[0;32m<__array_function__ internals>\u001b[0m in \u001b[0;36mmean\u001b[0;34m(*args, **kwargs)\u001b[0m\n",
            "\u001b[0;32m/usr/local/lib/python3.6/dist-packages/numpy/core/fromnumeric.py\u001b[0m in \u001b[0;36mmean\u001b[0;34m(a, axis, dtype, out, keepdims)\u001b[0m\n\u001b[1;32m   3330\u001b[0m             \u001b[0;32mpass\u001b[0m\u001b[0;34m\u001b[0m\u001b[0;34m\u001b[0m\u001b[0m\n\u001b[1;32m   3331\u001b[0m         \u001b[0;32melse\u001b[0m\u001b[0;34m:\u001b[0m\u001b[0;34m\u001b[0m\u001b[0;34m\u001b[0m\u001b[0m\n\u001b[0;32m-> 3332\u001b[0;31m             \u001b[0;32mreturn\u001b[0m \u001b[0mmean\u001b[0m\u001b[0;34m(\u001b[0m\u001b[0maxis\u001b[0m\u001b[0;34m=\u001b[0m\u001b[0maxis\u001b[0m\u001b[0;34m,\u001b[0m \u001b[0mdtype\u001b[0m\u001b[0;34m=\u001b[0m\u001b[0mdtype\u001b[0m\u001b[0;34m,\u001b[0m \u001b[0mout\u001b[0m\u001b[0;34m=\u001b[0m\u001b[0mout\u001b[0m\u001b[0;34m,\u001b[0m \u001b[0;34m**\u001b[0m\u001b[0mkwargs\u001b[0m\u001b[0;34m)\u001b[0m\u001b[0;34m\u001b[0m\u001b[0;34m\u001b[0m\u001b[0m\n\u001b[0m\u001b[1;32m   3333\u001b[0m \u001b[0;34m\u001b[0m\u001b[0m\n\u001b[1;32m   3334\u001b[0m     return _methods._mean(a, axis=axis, dtype=dtype,\n",
            "\u001b[0;32m/usr/local/lib/python3.6/dist-packages/pandas/core/generic.py\u001b[0m in \u001b[0;36mstat_func\u001b[0;34m(self, axis, skipna, level, numeric_only, **kwargs)\u001b[0m\n\u001b[1;32m  11213\u001b[0m             \u001b[0;32mreturn\u001b[0m \u001b[0mself\u001b[0m\u001b[0;34m.\u001b[0m\u001b[0m_agg_by_level\u001b[0m\u001b[0;34m(\u001b[0m\u001b[0mname\u001b[0m\u001b[0;34m,\u001b[0m \u001b[0maxis\u001b[0m\u001b[0;34m=\u001b[0m\u001b[0maxis\u001b[0m\u001b[0;34m,\u001b[0m \u001b[0mlevel\u001b[0m\u001b[0;34m=\u001b[0m\u001b[0mlevel\u001b[0m\u001b[0;34m,\u001b[0m \u001b[0mskipna\u001b[0m\u001b[0;34m=\u001b[0m\u001b[0mskipna\u001b[0m\u001b[0;34m)\u001b[0m\u001b[0;34m\u001b[0m\u001b[0;34m\u001b[0m\u001b[0m\n\u001b[1;32m  11214\u001b[0m         return self._reduce(\n\u001b[0;32m> 11215\u001b[0;31m             \u001b[0mf\u001b[0m\u001b[0;34m,\u001b[0m \u001b[0mname\u001b[0m\u001b[0;34m,\u001b[0m \u001b[0maxis\u001b[0m\u001b[0;34m=\u001b[0m\u001b[0maxis\u001b[0m\u001b[0;34m,\u001b[0m \u001b[0mskipna\u001b[0m\u001b[0;34m=\u001b[0m\u001b[0mskipna\u001b[0m\u001b[0;34m,\u001b[0m \u001b[0mnumeric_only\u001b[0m\u001b[0;34m=\u001b[0m\u001b[0mnumeric_only\u001b[0m\u001b[0;34m\u001b[0m\u001b[0;34m\u001b[0m\u001b[0m\n\u001b[0m\u001b[1;32m  11216\u001b[0m         )\n\u001b[1;32m  11217\u001b[0m \u001b[0;34m\u001b[0m\u001b[0m\n",
            "\u001b[0;32m/usr/local/lib/python3.6/dist-packages/pandas/core/series.py\u001b[0m in \u001b[0;36m_reduce\u001b[0;34m(self, op, name, axis, skipna, numeric_only, filter_type, **kwds)\u001b[0m\n\u001b[1;32m   3889\u001b[0m                 )\n\u001b[1;32m   3890\u001b[0m             \u001b[0;32mwith\u001b[0m \u001b[0mnp\u001b[0m\u001b[0;34m.\u001b[0m\u001b[0merrstate\u001b[0m\u001b[0;34m(\u001b[0m\u001b[0mall\u001b[0m\u001b[0;34m=\u001b[0m\u001b[0;34m\"ignore\"\u001b[0m\u001b[0;34m)\u001b[0m\u001b[0;34m:\u001b[0m\u001b[0;34m\u001b[0m\u001b[0;34m\u001b[0m\u001b[0m\n\u001b[0;32m-> 3891\u001b[0;31m                 \u001b[0;32mreturn\u001b[0m \u001b[0mop\u001b[0m\u001b[0;34m(\u001b[0m\u001b[0mdelegate\u001b[0m\u001b[0;34m,\u001b[0m \u001b[0mskipna\u001b[0m\u001b[0;34m=\u001b[0m\u001b[0mskipna\u001b[0m\u001b[0;34m,\u001b[0m \u001b[0;34m**\u001b[0m\u001b[0mkwds\u001b[0m\u001b[0;34m)\u001b[0m\u001b[0;34m\u001b[0m\u001b[0;34m\u001b[0m\u001b[0m\n\u001b[0m\u001b[1;32m   3892\u001b[0m \u001b[0;34m\u001b[0m\u001b[0m\n\u001b[1;32m   3893\u001b[0m         \u001b[0;31m# TODO(EA) dispatch to Index\u001b[0m\u001b[0;34m\u001b[0m\u001b[0;34m\u001b[0m\u001b[0;34m\u001b[0m\u001b[0m\n",
            "\u001b[0;32m/usr/local/lib/python3.6/dist-packages/pandas/core/nanops.py\u001b[0m in \u001b[0;36m_f\u001b[0;34m(*args, **kwargs)\u001b[0m\n\u001b[1;32m     67\u001b[0m             \u001b[0;32mtry\u001b[0m\u001b[0;34m:\u001b[0m\u001b[0;34m\u001b[0m\u001b[0;34m\u001b[0m\u001b[0m\n\u001b[1;32m     68\u001b[0m                 \u001b[0;32mwith\u001b[0m \u001b[0mnp\u001b[0m\u001b[0;34m.\u001b[0m\u001b[0merrstate\u001b[0m\u001b[0;34m(\u001b[0m\u001b[0minvalid\u001b[0m\u001b[0;34m=\u001b[0m\u001b[0;34m\"ignore\"\u001b[0m\u001b[0;34m)\u001b[0m\u001b[0;34m:\u001b[0m\u001b[0;34m\u001b[0m\u001b[0;34m\u001b[0m\u001b[0m\n\u001b[0;32m---> 69\u001b[0;31m                     \u001b[0;32mreturn\u001b[0m \u001b[0mf\u001b[0m\u001b[0;34m(\u001b[0m\u001b[0;34m*\u001b[0m\u001b[0margs\u001b[0m\u001b[0;34m,\u001b[0m \u001b[0;34m**\u001b[0m\u001b[0mkwargs\u001b[0m\u001b[0;34m)\u001b[0m\u001b[0;34m\u001b[0m\u001b[0;34m\u001b[0m\u001b[0m\n\u001b[0m\u001b[1;32m     70\u001b[0m             \u001b[0;32mexcept\u001b[0m \u001b[0mValueError\u001b[0m \u001b[0;32mas\u001b[0m \u001b[0me\u001b[0m\u001b[0;34m:\u001b[0m\u001b[0;34m\u001b[0m\u001b[0;34m\u001b[0m\u001b[0m\n\u001b[1;32m     71\u001b[0m                 \u001b[0;31m# we want to transform an object array\u001b[0m\u001b[0;34m\u001b[0m\u001b[0;34m\u001b[0m\u001b[0;34m\u001b[0m\u001b[0m\n",
            "\u001b[0;32m/usr/local/lib/python3.6/dist-packages/pandas/core/nanops.py\u001b[0m in \u001b[0;36mf\u001b[0;34m(values, axis, skipna, **kwds)\u001b[0m\n\u001b[1;32m    123\u001b[0m                     \u001b[0mresult\u001b[0m \u001b[0;34m=\u001b[0m \u001b[0malt\u001b[0m\u001b[0;34m(\u001b[0m\u001b[0mvalues\u001b[0m\u001b[0;34m,\u001b[0m \u001b[0maxis\u001b[0m\u001b[0;34m=\u001b[0m\u001b[0maxis\u001b[0m\u001b[0;34m,\u001b[0m \u001b[0mskipna\u001b[0m\u001b[0;34m=\u001b[0m\u001b[0mskipna\u001b[0m\u001b[0;34m,\u001b[0m \u001b[0;34m**\u001b[0m\u001b[0mkwds\u001b[0m\u001b[0;34m)\u001b[0m\u001b[0;34m\u001b[0m\u001b[0;34m\u001b[0m\u001b[0m\n\u001b[1;32m    124\u001b[0m             \u001b[0;32melse\u001b[0m\u001b[0;34m:\u001b[0m\u001b[0;34m\u001b[0m\u001b[0;34m\u001b[0m\u001b[0m\n\u001b[0;32m--> 125\u001b[0;31m                 \u001b[0mresult\u001b[0m \u001b[0;34m=\u001b[0m \u001b[0malt\u001b[0m\u001b[0;34m(\u001b[0m\u001b[0mvalues\u001b[0m\u001b[0;34m,\u001b[0m \u001b[0maxis\u001b[0m\u001b[0;34m=\u001b[0m\u001b[0maxis\u001b[0m\u001b[0;34m,\u001b[0m \u001b[0mskipna\u001b[0m\u001b[0;34m=\u001b[0m\u001b[0mskipna\u001b[0m\u001b[0;34m,\u001b[0m \u001b[0;34m**\u001b[0m\u001b[0mkwds\u001b[0m\u001b[0;34m)\u001b[0m\u001b[0;34m\u001b[0m\u001b[0;34m\u001b[0m\u001b[0m\n\u001b[0m\u001b[1;32m    126\u001b[0m \u001b[0;34m\u001b[0m\u001b[0m\n\u001b[1;32m    127\u001b[0m             \u001b[0;32mreturn\u001b[0m \u001b[0mresult\u001b[0m\u001b[0;34m\u001b[0m\u001b[0;34m\u001b[0m\u001b[0m\n",
            "\u001b[0;32m/usr/local/lib/python3.6/dist-packages/pandas/core/nanops.py\u001b[0m in \u001b[0;36mnanmean\u001b[0;34m(values, axis, skipna, mask)\u001b[0m\n\u001b[1;32m    540\u001b[0m         \u001b[0mdtype_count\u001b[0m \u001b[0;34m=\u001b[0m \u001b[0mdtype\u001b[0m\u001b[0;34m\u001b[0m\u001b[0;34m\u001b[0m\u001b[0m\n\u001b[1;32m    541\u001b[0m     \u001b[0mcount\u001b[0m \u001b[0;34m=\u001b[0m \u001b[0m_get_counts\u001b[0m\u001b[0;34m(\u001b[0m\u001b[0mvalues\u001b[0m\u001b[0;34m.\u001b[0m\u001b[0mshape\u001b[0m\u001b[0;34m,\u001b[0m \u001b[0mmask\u001b[0m\u001b[0;34m,\u001b[0m \u001b[0maxis\u001b[0m\u001b[0;34m,\u001b[0m \u001b[0mdtype\u001b[0m\u001b[0;34m=\u001b[0m\u001b[0mdtype_count\u001b[0m\u001b[0;34m)\u001b[0m\u001b[0;34m\u001b[0m\u001b[0;34m\u001b[0m\u001b[0m\n\u001b[0;32m--> 542\u001b[0;31m     \u001b[0mthe_sum\u001b[0m \u001b[0;34m=\u001b[0m \u001b[0m_ensure_numeric\u001b[0m\u001b[0;34m(\u001b[0m\u001b[0mvalues\u001b[0m\u001b[0;34m.\u001b[0m\u001b[0msum\u001b[0m\u001b[0;34m(\u001b[0m\u001b[0maxis\u001b[0m\u001b[0;34m,\u001b[0m \u001b[0mdtype\u001b[0m\u001b[0;34m=\u001b[0m\u001b[0mdtype_sum\u001b[0m\u001b[0;34m)\u001b[0m\u001b[0;34m)\u001b[0m\u001b[0;34m\u001b[0m\u001b[0;34m\u001b[0m\u001b[0m\n\u001b[0m\u001b[1;32m    543\u001b[0m \u001b[0;34m\u001b[0m\u001b[0m\n\u001b[1;32m    544\u001b[0m     \u001b[0;32mif\u001b[0m \u001b[0maxis\u001b[0m \u001b[0;32mis\u001b[0m \u001b[0;32mnot\u001b[0m \u001b[0;32mNone\u001b[0m \u001b[0;32mand\u001b[0m \u001b[0mgetattr\u001b[0m\u001b[0;34m(\u001b[0m\u001b[0mthe_sum\u001b[0m\u001b[0;34m,\u001b[0m \u001b[0;34m\"ndim\"\u001b[0m\u001b[0;34m,\u001b[0m \u001b[0;32mFalse\u001b[0m\u001b[0;34m)\u001b[0m\u001b[0;34m:\u001b[0m\u001b[0;34m\u001b[0m\u001b[0;34m\u001b[0m\u001b[0m\n",
            "\u001b[0;32m/usr/local/lib/python3.6/dist-packages/numpy/core/_methods.py\u001b[0m in \u001b[0;36m_sum\u001b[0;34m(a, axis, dtype, out, keepdims, initial, where)\u001b[0m\n\u001b[1;32m     36\u001b[0m def _sum(a, axis=None, dtype=None, out=None, keepdims=False,\n\u001b[1;32m     37\u001b[0m          initial=_NoValue, where=True):\n\u001b[0;32m---> 38\u001b[0;31m     \u001b[0;32mreturn\u001b[0m \u001b[0mumr_sum\u001b[0m\u001b[0;34m(\u001b[0m\u001b[0ma\u001b[0m\u001b[0;34m,\u001b[0m \u001b[0maxis\u001b[0m\u001b[0;34m,\u001b[0m \u001b[0mdtype\u001b[0m\u001b[0;34m,\u001b[0m \u001b[0mout\u001b[0m\u001b[0;34m,\u001b[0m \u001b[0mkeepdims\u001b[0m\u001b[0;34m,\u001b[0m \u001b[0minitial\u001b[0m\u001b[0;34m,\u001b[0m \u001b[0mwhere\u001b[0m\u001b[0;34m)\u001b[0m\u001b[0;34m\u001b[0m\u001b[0;34m\u001b[0m\u001b[0m\n\u001b[0m\u001b[1;32m     39\u001b[0m \u001b[0;34m\u001b[0m\u001b[0m\n\u001b[1;32m     40\u001b[0m def _prod(a, axis=None, dtype=None, out=None, keepdims=False,\n",
            "\u001b[0;31mTypeError\u001b[0m: must be str, not int"
          ]
        }
      ]
    },
    {
      "cell_type": "markdown",
      "metadata": {
        "id": "A8oHyBm0XtjJ",
        "colab_type": "text"
      },
      "source": [
        "##String Parsing\n",
        "Sometimes we need to modify strings in our DataFrames to help us transform them into more meaningful metrics. For example, in our fruits table from before:\n",
        "\n",
        "item\tprice\tcalories\n",
        "\n",
        "“banana”\t“$1”\t105\n",
        "\n",
        "“apple”\t“$0.75”\t95\n",
        "\n",
        "“peach”\t“$3”\t55\n",
        "\n",
        "“peach”\t“$4”\t55\n",
        "\n",
        "“clementine”\t“$2.5”\t35\n",
        "\n",
        "\n",
        "We can see that the 'price' column is actually composed of strings representing dollar amounts. This column could be much better represented in floats, so that we could take the mean, calculate other aggregate statistics, or compare different fruits to one another in terms of price.\n",
        "\n",
        "First, we can use what we know of regex to get rid of all of the dollar signs:\n",
        "\n",
        "\n",
        "```\n",
        "fruit.price = fruit['price'].replace('[\\$,]', '', regex=True)\n",
        "```\n",
        "Then, we can use the pandas function .to_numeric() to convert strings containing numerical values to integers or floats:\n",
        "```\n",
        "fruit.price = pd.to_numeric(fruit.price)\n",
        "```\n",
        "Now, we have a DataFrame that looks like:\n",
        "\n",
        "item\tprice\tcalories \n",
        "\n",
        "“banana”\t1\t105\n",
        "\n",
        "“apple”\t0.75\t95\n",
        "\n",
        "“peach”\t3\t55\n",
        "\n",
        "“peach”\t4\t55\n",
        "\n",
        "“clementine”\t2.5\t35"
      ]
    },
    {
      "cell_type": "code",
      "metadata": {
        "id": "5nuAPPq8YCmj",
        "colab_type": "code",
        "colab": {
          "base_uri": "https://localhost:8080/",
          "height": 204
        },
        "outputId": "f795421b-3540-41ee-9104-9cecdac72a13"
      },
      "source": [
        "#Use regex to take out the % signs in the score column.\n",
        "students.score = students['score'].replace('[\\%,]', '', regex=True)\n",
        "\n",
        "#Convert the score column to a numerical type using the pd.to_numeric() function.\n",
        "students.score = pd.to_numeric(students['score'])\n",
        "students.head()"
      ],
      "execution_count": 57,
      "outputs": [
        {
          "output_type": "execute_result",
          "data": {
            "text/html": [
              "<div>\n",
              "<style scoped>\n",
              "    .dataframe tbody tr th:only-of-type {\n",
              "        vertical-align: middle;\n",
              "    }\n",
              "\n",
              "    .dataframe tbody tr th {\n",
              "        vertical-align: top;\n",
              "    }\n",
              "\n",
              "    .dataframe thead th {\n",
              "        text-align: right;\n",
              "    }\n",
              "</style>\n",
              "<table border=\"1\" class=\"dataframe\">\n",
              "  <thead>\n",
              "    <tr style=\"text-align: right;\">\n",
              "      <th></th>\n",
              "      <th>full_name</th>\n",
              "      <th>gender_age</th>\n",
              "      <th>grade</th>\n",
              "      <th>exam</th>\n",
              "      <th>score</th>\n",
              "      <th>gender</th>\n",
              "      <th>age</th>\n",
              "      <th>first_name</th>\n",
              "      <th>last_name</th>\n",
              "    </tr>\n",
              "  </thead>\n",
              "  <tbody>\n",
              "    <tr>\n",
              "      <th>0</th>\n",
              "      <td>Moses Kirckman</td>\n",
              "      <td>M14</td>\n",
              "      <td>11th grade</td>\n",
              "      <td>fractions</td>\n",
              "      <td>69.0</td>\n",
              "      <td>M</td>\n",
              "      <td>14</td>\n",
              "      <td>Moses</td>\n",
              "      <td>Kirckman</td>\n",
              "    </tr>\n",
              "    <tr>\n",
              "      <th>1</th>\n",
              "      <td>Timofei Strowan</td>\n",
              "      <td>M18</td>\n",
              "      <td>11th grade</td>\n",
              "      <td>fractions</td>\n",
              "      <td>63.0</td>\n",
              "      <td>M</td>\n",
              "      <td>18</td>\n",
              "      <td>Timofei</td>\n",
              "      <td>Strowan</td>\n",
              "    </tr>\n",
              "    <tr>\n",
              "      <th>2</th>\n",
              "      <td>Silvain Poll</td>\n",
              "      <td>M18</td>\n",
              "      <td>9th grade</td>\n",
              "      <td>fractions</td>\n",
              "      <td>69.0</td>\n",
              "      <td>M</td>\n",
              "      <td>18</td>\n",
              "      <td>Silvain</td>\n",
              "      <td>Poll</td>\n",
              "    </tr>\n",
              "    <tr>\n",
              "      <th>3</th>\n",
              "      <td>Lezley Pinxton</td>\n",
              "      <td>M18</td>\n",
              "      <td>11th grade</td>\n",
              "      <td>fractions</td>\n",
              "      <td>NaN</td>\n",
              "      <td>M</td>\n",
              "      <td>18</td>\n",
              "      <td>Lezley</td>\n",
              "      <td>Pinxton</td>\n",
              "    </tr>\n",
              "    <tr>\n",
              "      <th>4</th>\n",
              "      <td>Bernadene Saunper</td>\n",
              "      <td>F17</td>\n",
              "      <td>11th grade</td>\n",
              "      <td>fractions</td>\n",
              "      <td>72.0</td>\n",
              "      <td>F</td>\n",
              "      <td>17</td>\n",
              "      <td>Bernadene</td>\n",
              "      <td>Saunper</td>\n",
              "    </tr>\n",
              "  </tbody>\n",
              "</table>\n",
              "</div>"
            ],
            "text/plain": [
              "           full_name gender_age       grade  ... age  first_name last_name\n",
              "0     Moses Kirckman        M14  11th grade  ...  14       Moses  Kirckman\n",
              "1    Timofei Strowan        M18  11th grade  ...  18     Timofei   Strowan\n",
              "2       Silvain Poll        M18   9th grade  ...  18     Silvain      Poll\n",
              "3     Lezley Pinxton        M18  11th grade  ...  18      Lezley   Pinxton\n",
              "4  Bernadene Saunper        F17  11th grade  ...  17   Bernadene   Saunper\n",
              "\n",
              "[5 rows x 9 columns]"
            ]
          },
          "metadata": {
            "tags": []
          },
          "execution_count": 57
        }
      ]
    },
    {
      "cell_type": "markdown",
      "metadata": {
        "id": "VHTOGY2bYU9Z",
        "colab_type": "text"
      },
      "source": [
        "##More String Parsing\n",
        "Sometimes we want to do analysis on numbers that are hidden within string values. We can use regex to extract this numerical data from the strings they are trapped in. Suppose we had this DataFrame df representing a workout regimen:\n",
        "\n",
        "date\texerciseDescription\n",
        "\n",
        "10/18/2018\t“lunges - 30 reps”\n",
        "\n",
        "10/18/2018\t“squats - 20 reps”\n",
        "\n",
        "10/18/2018\t“deadlifts - 25 reps”\n",
        "\n",
        "10/18/2018\t“jumping jacks - 30 reps”\n",
        "\n",
        "10/19/2018\t“lunges - 40 reps”\n",
        "\n",
        "10/19/2018\t“chest flyes - 15 reps”\n",
        "…\t…\n",
        "\n",
        "It would be helpful to separate out data like \"30 lunges\" into 2 columns with the number of reps, \"30\", and the type of exercise, \"lunges\". Then, we could compare the increase in the number of lunges done over time, for example.\n",
        "\n",
        "To extract the numbers from the string we can use pandas’ .str.split() function:\n",
        "\n",
        "\n",
        "```\n",
        "split_df = df['exerciseDescription'].str.split('(\\d+)', expand=True)\n",
        "```\n",
        "which would result in this DataFrame split_df:\n",
        "\n",
        "* *\t0\t1\t2\n",
        "\n",
        "0\t“lunges - “\t“30”\t“reps”\n",
        "\n",
        "1\t“squats - “\t“20”\t“reps”\n",
        "\n",
        "2\t“deadlifts - “\t“25”\t“reps”\n",
        "\n",
        "3\t“jumping jacks - “\t“30”\t“reps”\n",
        "\n",
        "4\t“lunges - “\t“40”\t“reps”\n",
        "\n",
        "5\t“chest flyes - “\t“15”\t“reps”\n",
        "…\t…\t…\t…\n",
        "\n",
        "Then, we can assign columns from this DataFrame to the original df:\n",
        "```\n",
        "df.reps = pd.to_numeric(split_df[1])\n",
        "df.exercise = split_df[2].replace('[\\- ]', '', regex=True)\n",
        "```\n",
        "Now, our df looks like this:\n",
        "\n",
        "date\texerciseDescription\treps\texercise\n",
        "\n",
        "10/18/2018\t“lunges - 30 reps”\t30\t“lunges”\n",
        "\n",
        "\n",
        "10/18/2018\t“squats - 20 reps”\t20\t“squats”\n",
        "\n",
        "10/18/2018\t“deadlifts - 25 reps”\t25\t“deadlifts”\n",
        "\n",
        "10/18/2018\t“jumping jacks - 30 reps”\t30\t“jumping jacks”\n",
        "\n",
        "10/19/2018\t“lunges - 40 reps”\t40\t“lunges”\n",
        "\n",
        "10/19/2018\t“chest flyes - 15 reps”\t15\t“chest flyes”\n",
        "…\t…\t…\t…\n"
      ]
    },
    {
      "cell_type": "markdown",
      "metadata": {
        "id": "PalKyQ8jYqsW",
        "colab_type": "text"
      },
      "source": [
        "Each value in grade looks like “9th grade”, “10th grade”, “11th grade”, or “12th grade”.\n",
        "\n",
        "We want to pare that down to just having the numerical grade. Maybe we want to do linear regression on this data, which would require numerical inputs.\n",
        "\n",
        "Use regex to extract the number from each string in grade and store those values back into the grade column."
      ]
    },
    {
      "cell_type": "code",
      "metadata": {
        "id": "yi9-kO_dYreM",
        "colab_type": "code",
        "colab": {
          "base_uri": "https://localhost:8080/",
          "height": 187
        },
        "outputId": "62f59308-6f9a-4ced-8e6e-2476517dcce5"
      },
      "source": [
        "students['grade'] = students['grade'].str.split('(\\d+)', expand=True)[1]\n",
        "print(students.dtypes)\n",
        "students['grade']= pd.to_numeric(students.grade)\n",
        "avg_grade = students.grade.mean()\n"
      ],
      "execution_count": 58,
      "outputs": [
        {
          "output_type": "stream",
          "text": [
            "full_name      object\n",
            "gender_age     object\n",
            "grade          object\n",
            "exam           object\n",
            "score         float64\n",
            "gender         object\n",
            "age            object\n",
            "first_name     object\n",
            "last_name      object\n",
            "dtype: object\n"
          ],
          "name": "stdout"
        }
      ]
    },
    {
      "cell_type": "code",
      "metadata": {
        "id": "MKbRSEK6ZEi9",
        "colab_type": "code",
        "colab": {
          "base_uri": "https://localhost:8080/",
          "height": 204
        },
        "outputId": "f6ff4f29-9844-46a6-c963-f4d8cd691bb7"
      },
      "source": [
        "students.head()"
      ],
      "execution_count": 59,
      "outputs": [
        {
          "output_type": "execute_result",
          "data": {
            "text/html": [
              "<div>\n",
              "<style scoped>\n",
              "    .dataframe tbody tr th:only-of-type {\n",
              "        vertical-align: middle;\n",
              "    }\n",
              "\n",
              "    .dataframe tbody tr th {\n",
              "        vertical-align: top;\n",
              "    }\n",
              "\n",
              "    .dataframe thead th {\n",
              "        text-align: right;\n",
              "    }\n",
              "</style>\n",
              "<table border=\"1\" class=\"dataframe\">\n",
              "  <thead>\n",
              "    <tr style=\"text-align: right;\">\n",
              "      <th></th>\n",
              "      <th>full_name</th>\n",
              "      <th>gender_age</th>\n",
              "      <th>grade</th>\n",
              "      <th>exam</th>\n",
              "      <th>score</th>\n",
              "      <th>gender</th>\n",
              "      <th>age</th>\n",
              "      <th>first_name</th>\n",
              "      <th>last_name</th>\n",
              "    </tr>\n",
              "  </thead>\n",
              "  <tbody>\n",
              "    <tr>\n",
              "      <th>0</th>\n",
              "      <td>Moses Kirckman</td>\n",
              "      <td>M14</td>\n",
              "      <td>11</td>\n",
              "      <td>fractions</td>\n",
              "      <td>69.0</td>\n",
              "      <td>M</td>\n",
              "      <td>14</td>\n",
              "      <td>Moses</td>\n",
              "      <td>Kirckman</td>\n",
              "    </tr>\n",
              "    <tr>\n",
              "      <th>1</th>\n",
              "      <td>Timofei Strowan</td>\n",
              "      <td>M18</td>\n",
              "      <td>11</td>\n",
              "      <td>fractions</td>\n",
              "      <td>63.0</td>\n",
              "      <td>M</td>\n",
              "      <td>18</td>\n",
              "      <td>Timofei</td>\n",
              "      <td>Strowan</td>\n",
              "    </tr>\n",
              "    <tr>\n",
              "      <th>2</th>\n",
              "      <td>Silvain Poll</td>\n",
              "      <td>M18</td>\n",
              "      <td>9</td>\n",
              "      <td>fractions</td>\n",
              "      <td>69.0</td>\n",
              "      <td>M</td>\n",
              "      <td>18</td>\n",
              "      <td>Silvain</td>\n",
              "      <td>Poll</td>\n",
              "    </tr>\n",
              "    <tr>\n",
              "      <th>3</th>\n",
              "      <td>Lezley Pinxton</td>\n",
              "      <td>M18</td>\n",
              "      <td>11</td>\n",
              "      <td>fractions</td>\n",
              "      <td>NaN</td>\n",
              "      <td>M</td>\n",
              "      <td>18</td>\n",
              "      <td>Lezley</td>\n",
              "      <td>Pinxton</td>\n",
              "    </tr>\n",
              "    <tr>\n",
              "      <th>4</th>\n",
              "      <td>Bernadene Saunper</td>\n",
              "      <td>F17</td>\n",
              "      <td>11</td>\n",
              "      <td>fractions</td>\n",
              "      <td>72.0</td>\n",
              "      <td>F</td>\n",
              "      <td>17</td>\n",
              "      <td>Bernadene</td>\n",
              "      <td>Saunper</td>\n",
              "    </tr>\n",
              "  </tbody>\n",
              "</table>\n",
              "</div>"
            ],
            "text/plain": [
              "           full_name gender_age  grade  ... age  first_name last_name\n",
              "0     Moses Kirckman        M14     11  ...  14       Moses  Kirckman\n",
              "1    Timofei Strowan        M18     11  ...  18     Timofei   Strowan\n",
              "2       Silvain Poll        M18      9  ...  18     Silvain      Poll\n",
              "3     Lezley Pinxton        M18     11  ...  18      Lezley   Pinxton\n",
              "4  Bernadene Saunper        F17     11  ...  17   Bernadene   Saunper\n",
              "\n",
              "[5 rows x 9 columns]"
            ]
          },
          "metadata": {
            "tags": []
          },
          "execution_count": 59
        }
      ]
    },
    {
      "cell_type": "markdown",
      "metadata": {
        "id": "0l60eXsMZXI9",
        "colab_type": "text"
      },
      "source": [
        "##Missing Values\n",
        "We often have data with missing elements, as a result of a problem with the data collection process or errors in the way the data was stored. The missing elements normally show up as NaN (or Not a Number) values:\n",
        "\n",
        "day\tbill\ttip\tnum_guests\n",
        "\n",
        "“Mon”\t10.1\t1\t1\n",
        "\n",
        "“Mon”\t20.75\t5.5\t2\n",
        "\n",
        "“Tue”\t19.95\t5.5\tNaN\n",
        "\n",
        "“Wed”\t44.10\t15\t3\n",
        "\n",
        "“Wed”\tNaN\t1\t1\n",
        "\n",
        "The num_guests value for the 3rd row is missing, and the bill value for the 5th row is missing. Some calculations we do will just skip the NaN values, but some calculations or visualizations we try to perform will break when a NaN is encountered.\n",
        "\n",
        "Most of the time, we use one of two methods to deal with missing values.\n",
        "\n",
        "Method 1: drop all of the rows with a missing value\n",
        "We can use .dropna() to do this:\n",
        "\n",
        "\n",
        "```\n",
        "bill_df = bill_df.dropna()\n",
        "```\n",
        "This command will result in the DataFrame without the incomplete rows:\n",
        "\n",
        "day\tbill\ttip\tnum_guests\n",
        "\n",
        "“Mon”\t10.1\t1\t1\n",
        "\n",
        "“Mon”\t20.75\t5.5\t2\n",
        "\n",
        "“Wed”\t44.10\t15\t3\n",
        "\n",
        "If we wanted to remove every row with a NaN value in the num_guests column only, we could specify a subset:\n",
        "```\n",
        "bill_df = bill_df.dropna(subset=['num_guests'])\n",
        "```\n",
        "Method 2: fill the missing values with the mean of the column, or with some other aggregate value.\n",
        "We can use .fillna() to do this:\n",
        "```\n",
        "bill_df = bill_df.fillna(value={\"bill\":bill_df.bill.mean(), \n",
        "\"num_guests\":bill_df.num_guests.mean()})\n",
        "```\n",
        "This command will result in the DataFrame with the respective mean of the column in the place of the original NaNs:\n",
        "\n",
        "day\tbill\ttip\tnum_guests\n",
        "\n",
        "“Mon”\t10.1\t1\t1\n",
        "\n",
        "“Mon”\t20.75\t5.5\t2\n",
        "\n",
        "“Tue”\t19.95\t5.5\t1.75\n",
        "\n",
        "“Wed”\t44.10\t15\t3\n",
        "\n",
        "“Wed”\t23.725\t1\t1\n"
      ]
    },
    {
      "cell_type": "markdown",
      "metadata": {
        "id": "7jIHYyCRZqcU",
        "colab_type": "text"
      },
      "source": [
        "We will assume that everyone who doesn’t have a score for an exam missed the test. We want to replace all nans with a score of 0. Let’s do this with the score column.\n",
        "\n",
        "Fill all of the nans in students['score'] with 0."
      ]
    },
    {
      "cell_type": "code",
      "metadata": {
        "id": "HTqQReeIZrtV",
        "colab_type": "code",
        "colab": {
          "base_uri": "https://localhost:8080/",
          "height": 51
        },
        "outputId": "0695d6f1-cb4d-4912-8cae-7699439e4441"
      },
      "source": [
        "score_mean = students.score.mean()\n",
        "print(score_mean)\n",
        "\n",
        "students['score'] = students['score'].fillna(0)\n",
        "\n",
        "score_mean_2 = students.score.mean()\n",
        "print(score_mean_2 )\n"
      ],
      "execution_count": 60,
      "outputs": [
        {
          "output_type": "stream",
          "text": [
            "77.69657422512235\n",
            "72.30971659919028\n"
          ],
          "name": "stdout"
        }
      ]
    },
    {
      "cell_type": "markdown",
      "metadata": {
        "id": "8bDKEXbcZzzZ",
        "colab_type": "text"
      },
      "source": [
        "Review\n",
        "Great! We have looked at a number of different methods we may use to get data into the format we want for analysis.\n",
        "\n",
        "Specifically, we have covered:\n",
        "\n",
        "* diagnosing the “tidiness” of the data\n",
        "* reshaping the data\n",
        "* combining multiple files\n",
        "* changing the types of values\n",
        "* dropping or filling missing values - how we deal with data that is incomplete or missing\n",
        "* manipulating strings to represent the data better\n",
        "\n",
        "You can use these methods to transform your datasets to be clean and easy to work with!"
      ]
    }
  ]
}