{
  "nbformat": 4,
  "nbformat_minor": 0,
  "metadata": {
    "colab": {
      "name": "Cleaning US Census Data.ipynb",
      "provenance": [],
      "toc_visible": true,
      "authorship_tag": "ABX9TyPLH8pa5WJlFfKRRFpiwHHW",
      "include_colab_link": true
    },
    "kernelspec": {
      "name": "python3",
      "display_name": "Python 3"
    }
  },
  "cells": [
    {
      "cell_type": "markdown",
      "metadata": {
        "id": "view-in-github",
        "colab_type": "text"
      },
      "source": [
        "<a href=\"https://colab.research.google.com/github/bibekuchiha/Data-Cleaning-with-Pandas/blob/master/Cleaning%20US%20Census%20Data/%20Cleaning_US_Census_Data.ipynb\" target=\"_parent\"><img src=\"https://colab.research.google.com/assets/colab-badge.svg\" alt=\"Open In Colab\"/></a>"
      ]
    },
    {
      "cell_type": "markdown",
      "metadata": {
        "id": "H4W8xYU829K0",
        "colab_type": "text"
      },
      "source": [
        "#Cleaning US Census Data"
      ]
    },
    {
      "cell_type": "code",
      "metadata": {
        "id": "2EQZTJsv27yH",
        "colab_type": "code",
        "colab": {}
      },
      "source": [
        "#Importing datasets\n",
        "import pandas as pd\n",
        "import numpy as np\n",
        "import matplotlib.pyplot as plt\n",
        "import glob"
      ],
      "execution_count": 28,
      "outputs": []
    },
    {
      "cell_type": "markdown",
      "metadata": {
        "id": "p3ZnBMrN7CJa",
        "colab_type": "text"
      },
      "source": [
        "Using glob, loop through the census files available and load them into DataFrames. Then, concatenate all of those DataFrames together into one DataFrame"
      ]
    },
    {
      "cell_type": "code",
      "metadata": {
        "id": "D3zdVBo04bng",
        "colab_type": "code",
        "colab": {
          "base_uri": "https://localhost:8080/",
          "height": 258
        },
        "outputId": "23df2357-bf77-4c6d-a7a1-383258e8e9db"
      },
      "source": [
        "us_census = glob.glob('states*.csv')\n",
        "df_list = []\n",
        "for filename in us_census:\n",
        "  data = pd.read_csv(filename)\n",
        "  df_list.append(data)\n",
        "\n",
        "df = pd.concat(df_list)\n",
        "\n",
        "df.head()\n"
      ],
      "execution_count": 29,
      "outputs": [
        {
          "output_type": "execute_result",
          "data": {
            "text/html": [
              "<div>\n",
              "<style scoped>\n",
              "    .dataframe tbody tr th:only-of-type {\n",
              "        vertical-align: middle;\n",
              "    }\n",
              "\n",
              "    .dataframe tbody tr th {\n",
              "        vertical-align: top;\n",
              "    }\n",
              "\n",
              "    .dataframe thead th {\n",
              "        text-align: right;\n",
              "    }\n",
              "</style>\n",
              "<table border=\"1\" class=\"dataframe\">\n",
              "  <thead>\n",
              "    <tr style=\"text-align: right;\">\n",
              "      <th></th>\n",
              "      <th>Unnamed: 0</th>\n",
              "      <th>State</th>\n",
              "      <th>TotalPop</th>\n",
              "      <th>Hispanic</th>\n",
              "      <th>White</th>\n",
              "      <th>Black</th>\n",
              "      <th>Native</th>\n",
              "      <th>Asian</th>\n",
              "      <th>Pacific</th>\n",
              "      <th>Income</th>\n",
              "      <th>GenderPop</th>\n",
              "    </tr>\n",
              "  </thead>\n",
              "  <tbody>\n",
              "    <tr>\n",
              "      <th>0</th>\n",
              "      <td>0</td>\n",
              "      <td>Colorado</td>\n",
              "      <td>5278906</td>\n",
              "      <td>20.78438003220608%</td>\n",
              "      <td>69.89557165861504%</td>\n",
              "      <td>3.546376811594201%</td>\n",
              "      <td>0.5738325281803548%</td>\n",
              "      <td>2.661996779388082%</td>\n",
              "      <td>NaN</td>\n",
              "      <td>$64657.801787164906</td>\n",
              "      <td>2648667M_2630239F</td>\n",
              "    </tr>\n",
              "    <tr>\n",
              "      <th>1</th>\n",
              "      <td>1</td>\n",
              "      <td>Connecticut</td>\n",
              "      <td>3593222</td>\n",
              "      <td>15.604830917874388%</td>\n",
              "      <td>67.6770531400966%</td>\n",
              "      <td>10.34806763285027%</td>\n",
              "      <td>0.12620772946859898%</td>\n",
              "      <td>4.021980676328502%</td>\n",
              "      <td>0.018599033816425123%</td>\n",
              "      <td>$76146.5605875153</td>\n",
              "      <td>1751607M_1841615F</td>\n",
              "    </tr>\n",
              "    <tr>\n",
              "      <th>2</th>\n",
              "      <td>2</td>\n",
              "      <td>Delaware</td>\n",
              "      <td>926454</td>\n",
              "      <td>8.82476635514019%</td>\n",
              "      <td>64.63271028037383%</td>\n",
              "      <td>20.743925233644834%</td>\n",
              "      <td>0.25981308411214965%</td>\n",
              "      <td>3.2686915887850483%</td>\n",
              "      <td>NaN</td>\n",
              "      <td>$61827.97663551402</td>\n",
              "      <td>448413M_478041F</td>\n",
              "    </tr>\n",
              "    <tr>\n",
              "      <th>3</th>\n",
              "      <td>3</td>\n",
              "      <td>District of Columbia</td>\n",
              "      <td>647484</td>\n",
              "      <td>9.165921787709499%</td>\n",
              "      <td>33.103910614525134%</td>\n",
              "      <td>51.77653631284915%</td>\n",
              "      <td>0.20055865921787713%</td>\n",
              "      <td>3.3832402234636865%</td>\n",
              "      <td>0.029608938547486034%</td>\n",
              "      <td>$75466.36363636363</td>\n",
              "      <td>306674M_340810F</td>\n",
              "    </tr>\n",
              "    <tr>\n",
              "      <th>4</th>\n",
              "      <td>4</td>\n",
              "      <td>Florida</td>\n",
              "      <td>19645772</td>\n",
              "      <td>21.3385426653884%</td>\n",
              "      <td>59.08374880153398%</td>\n",
              "      <td>15.165675934803444%</td>\n",
              "      <td>0.2104506232023015%</td>\n",
              "      <td>2.2831735378715257%</td>\n",
              "      <td>0.05151006711409391%</td>\n",
              "      <td>$50690.194986743794</td>\n",
              "      <td>9600009M_10045763F</td>\n",
              "    </tr>\n",
              "  </tbody>\n",
              "</table>\n",
              "</div>"
            ],
            "text/plain": [
              "   Unnamed: 0                 State  ...               Income           GenderPop\n",
              "0           0              Colorado  ...  $64657.801787164906   2648667M_2630239F\n",
              "1           1           Connecticut  ...    $76146.5605875153   1751607M_1841615F\n",
              "2           2              Delaware  ...   $61827.97663551402     448413M_478041F\n",
              "3           3  District of Columbia  ...   $75466.36363636363     306674M_340810F\n",
              "4           4               Florida  ...  $50690.194986743794  9600009M_10045763F\n",
              "\n",
              "[5 rows x 11 columns]"
            ]
          },
          "metadata": {
            "tags": []
          },
          "execution_count": 29
        }
      ]
    },
    {
      "cell_type": "code",
      "metadata": {
        "id": "_HGvtTty4g2m",
        "colab_type": "code",
        "colab": {
          "base_uri": "https://localhost:8080/",
          "height": 68
        },
        "outputId": "ecbafbe4-7afa-46f7-d2b2-03c266913385"
      },
      "source": [
        "#checking the columns in dataset\n",
        "print(df.columns)"
      ],
      "execution_count": 30,
      "outputs": [
        {
          "output_type": "stream",
          "text": [
            "Index(['Unnamed: 0', 'State', 'TotalPop', 'Hispanic', 'White', 'Black',\n",
            "       'Native', 'Asian', 'Pacific', 'Income', 'GenderPop'],\n",
            "      dtype='object')\n"
          ],
          "name": "stdout"
        }
      ]
    },
    {
      "cell_type": "markdown",
      "metadata": {
        "id": "CQDOEqz14nRi",
        "colab_type": "text"
      },
      "source": [
        "\n",
        "Use regex to turn the Income column into a format that is ready for conversion into a numerical type."
      ]
    },
    {
      "cell_type": "code",
      "metadata": {
        "id": "GwvnhgaK4ntO",
        "colab_type": "code",
        "colab": {
          "base_uri": "https://localhost:8080/",
          "height": 258
        },
        "outputId": "f5f14f10-7626-4016-8ca3-e7e6392ece13"
      },
      "source": [
        "df['Income'] = df.Income.replace('[/$]', '', regex=True)\n",
        "df.head()"
      ],
      "execution_count": 31,
      "outputs": [
        {
          "output_type": "execute_result",
          "data": {
            "text/html": [
              "<div>\n",
              "<style scoped>\n",
              "    .dataframe tbody tr th:only-of-type {\n",
              "        vertical-align: middle;\n",
              "    }\n",
              "\n",
              "    .dataframe tbody tr th {\n",
              "        vertical-align: top;\n",
              "    }\n",
              "\n",
              "    .dataframe thead th {\n",
              "        text-align: right;\n",
              "    }\n",
              "</style>\n",
              "<table border=\"1\" class=\"dataframe\">\n",
              "  <thead>\n",
              "    <tr style=\"text-align: right;\">\n",
              "      <th></th>\n",
              "      <th>Unnamed: 0</th>\n",
              "      <th>State</th>\n",
              "      <th>TotalPop</th>\n",
              "      <th>Hispanic</th>\n",
              "      <th>White</th>\n",
              "      <th>Black</th>\n",
              "      <th>Native</th>\n",
              "      <th>Asian</th>\n",
              "      <th>Pacific</th>\n",
              "      <th>Income</th>\n",
              "      <th>GenderPop</th>\n",
              "    </tr>\n",
              "  </thead>\n",
              "  <tbody>\n",
              "    <tr>\n",
              "      <th>0</th>\n",
              "      <td>0</td>\n",
              "      <td>Colorado</td>\n",
              "      <td>5278906</td>\n",
              "      <td>20.78438003220608%</td>\n",
              "      <td>69.89557165861504%</td>\n",
              "      <td>3.546376811594201%</td>\n",
              "      <td>0.5738325281803548%</td>\n",
              "      <td>2.661996779388082%</td>\n",
              "      <td>NaN</td>\n",
              "      <td>64657.801787164906</td>\n",
              "      <td>2648667M_2630239F</td>\n",
              "    </tr>\n",
              "    <tr>\n",
              "      <th>1</th>\n",
              "      <td>1</td>\n",
              "      <td>Connecticut</td>\n",
              "      <td>3593222</td>\n",
              "      <td>15.604830917874388%</td>\n",
              "      <td>67.6770531400966%</td>\n",
              "      <td>10.34806763285027%</td>\n",
              "      <td>0.12620772946859898%</td>\n",
              "      <td>4.021980676328502%</td>\n",
              "      <td>0.018599033816425123%</td>\n",
              "      <td>76146.5605875153</td>\n",
              "      <td>1751607M_1841615F</td>\n",
              "    </tr>\n",
              "    <tr>\n",
              "      <th>2</th>\n",
              "      <td>2</td>\n",
              "      <td>Delaware</td>\n",
              "      <td>926454</td>\n",
              "      <td>8.82476635514019%</td>\n",
              "      <td>64.63271028037383%</td>\n",
              "      <td>20.743925233644834%</td>\n",
              "      <td>0.25981308411214965%</td>\n",
              "      <td>3.2686915887850483%</td>\n",
              "      <td>NaN</td>\n",
              "      <td>61827.97663551402</td>\n",
              "      <td>448413M_478041F</td>\n",
              "    </tr>\n",
              "    <tr>\n",
              "      <th>3</th>\n",
              "      <td>3</td>\n",
              "      <td>District of Columbia</td>\n",
              "      <td>647484</td>\n",
              "      <td>9.165921787709499%</td>\n",
              "      <td>33.103910614525134%</td>\n",
              "      <td>51.77653631284915%</td>\n",
              "      <td>0.20055865921787713%</td>\n",
              "      <td>3.3832402234636865%</td>\n",
              "      <td>0.029608938547486034%</td>\n",
              "      <td>75466.36363636363</td>\n",
              "      <td>306674M_340810F</td>\n",
              "    </tr>\n",
              "    <tr>\n",
              "      <th>4</th>\n",
              "      <td>4</td>\n",
              "      <td>Florida</td>\n",
              "      <td>19645772</td>\n",
              "      <td>21.3385426653884%</td>\n",
              "      <td>59.08374880153398%</td>\n",
              "      <td>15.165675934803444%</td>\n",
              "      <td>0.2104506232023015%</td>\n",
              "      <td>2.2831735378715257%</td>\n",
              "      <td>0.05151006711409391%</td>\n",
              "      <td>50690.194986743794</td>\n",
              "      <td>9600009M_10045763F</td>\n",
              "    </tr>\n",
              "  </tbody>\n",
              "</table>\n",
              "</div>"
            ],
            "text/plain": [
              "   Unnamed: 0                 State  ...              Income           GenderPop\n",
              "0           0              Colorado  ...  64657.801787164906   2648667M_2630239F\n",
              "1           1           Connecticut  ...    76146.5605875153   1751607M_1841615F\n",
              "2           2              Delaware  ...   61827.97663551402     448413M_478041F\n",
              "3           3  District of Columbia  ...   75466.36363636363     306674M_340810F\n",
              "4           4               Florida  ...  50690.194986743794  9600009M_10045763F\n",
              "\n",
              "[5 rows x 11 columns]"
            ]
          },
          "metadata": {
            "tags": []
          },
          "execution_count": 31
        }
      ]
    },
    {
      "cell_type": "code",
      "metadata": {
        "id": "-EvINc0n4xM9",
        "colab_type": "code",
        "colab": {
          "base_uri": "https://localhost:8080/",
          "height": 221
        },
        "outputId": "88525f8c-9110-427b-dd40-5d7aed75def5"
      },
      "source": [
        "#converting the income column into numeric value\n",
        "df.Income = pd.to_numeric(df.Income)\n",
        "print(df.dtypes)"
      ],
      "execution_count": 32,
      "outputs": [
        {
          "output_type": "stream",
          "text": [
            "Unnamed: 0      int64\n",
            "State          object\n",
            "TotalPop        int64\n",
            "Hispanic       object\n",
            "White          object\n",
            "Black          object\n",
            "Native         object\n",
            "Asian          object\n",
            "Pacific        object\n",
            "Income        float64\n",
            "GenderPop      object\n",
            "dtype: object\n"
          ],
          "name": "stdout"
        }
      ]
    },
    {
      "cell_type": "markdown",
      "metadata": {
        "id": "xj1h0IqN43bu",
        "colab_type": "text"
      },
      "source": [
        "Look at the GenderPop column. We are going to want to separate this into two columns, the Men column, and the Women column."
      ]
    },
    {
      "cell_type": "code",
      "metadata": {
        "id": "cVpRxB5M434d",
        "colab_type": "code",
        "colab": {}
      },
      "source": [
        "gender_split = df.GenderPop.str.split('_')\n",
        "df['Men'] = gender_split.str.get(0)\n",
        "df['Women'] = gender_split.str.get(1)"
      ],
      "execution_count": 33,
      "outputs": []
    },
    {
      "cell_type": "markdown",
      "metadata": {
        "id": "4pKHzQoJ4-bG",
        "colab_type": "text"
      },
      "source": [
        "There is still an M or an F character in each entry! We should remove those before we convert."
      ]
    },
    {
      "cell_type": "code",
      "metadata": {
        "id": "L-aMKBMO4_XG",
        "colab_type": "code",
        "colab": {
          "base_uri": "https://localhost:8080/",
          "height": 258
        },
        "outputId": "b356c4c1-dd83-4a99-fe24-707eb30b9ae2"
      },
      "source": [
        "df['Men'] = df.Men.str[:-1]\n",
        "df['Women'] = df.Women.str[:-1]\n",
        "df.Men = pd.to_numeric(df.Men)\n",
        "df.Women = pd.to_numeric(df.Women)\n",
        "df.head()"
      ],
      "execution_count": 34,
      "outputs": [
        {
          "output_type": "execute_result",
          "data": {
            "text/html": [
              "<div>\n",
              "<style scoped>\n",
              "    .dataframe tbody tr th:only-of-type {\n",
              "        vertical-align: middle;\n",
              "    }\n",
              "\n",
              "    .dataframe tbody tr th {\n",
              "        vertical-align: top;\n",
              "    }\n",
              "\n",
              "    .dataframe thead th {\n",
              "        text-align: right;\n",
              "    }\n",
              "</style>\n",
              "<table border=\"1\" class=\"dataframe\">\n",
              "  <thead>\n",
              "    <tr style=\"text-align: right;\">\n",
              "      <th></th>\n",
              "      <th>Unnamed: 0</th>\n",
              "      <th>State</th>\n",
              "      <th>TotalPop</th>\n",
              "      <th>Hispanic</th>\n",
              "      <th>White</th>\n",
              "      <th>Black</th>\n",
              "      <th>Native</th>\n",
              "      <th>Asian</th>\n",
              "      <th>Pacific</th>\n",
              "      <th>Income</th>\n",
              "      <th>GenderPop</th>\n",
              "      <th>Men</th>\n",
              "      <th>Women</th>\n",
              "    </tr>\n",
              "  </thead>\n",
              "  <tbody>\n",
              "    <tr>\n",
              "      <th>0</th>\n",
              "      <td>0</td>\n",
              "      <td>Colorado</td>\n",
              "      <td>5278906</td>\n",
              "      <td>20.78438003220608%</td>\n",
              "      <td>69.89557165861504%</td>\n",
              "      <td>3.546376811594201%</td>\n",
              "      <td>0.5738325281803548%</td>\n",
              "      <td>2.661996779388082%</td>\n",
              "      <td>NaN</td>\n",
              "      <td>64657.801787</td>\n",
              "      <td>2648667M_2630239F</td>\n",
              "      <td>2648667</td>\n",
              "      <td>2630239.0</td>\n",
              "    </tr>\n",
              "    <tr>\n",
              "      <th>1</th>\n",
              "      <td>1</td>\n",
              "      <td>Connecticut</td>\n",
              "      <td>3593222</td>\n",
              "      <td>15.604830917874388%</td>\n",
              "      <td>67.6770531400966%</td>\n",
              "      <td>10.34806763285027%</td>\n",
              "      <td>0.12620772946859898%</td>\n",
              "      <td>4.021980676328502%</td>\n",
              "      <td>0.018599033816425123%</td>\n",
              "      <td>76146.560588</td>\n",
              "      <td>1751607M_1841615F</td>\n",
              "      <td>1751607</td>\n",
              "      <td>1841615.0</td>\n",
              "    </tr>\n",
              "    <tr>\n",
              "      <th>2</th>\n",
              "      <td>2</td>\n",
              "      <td>Delaware</td>\n",
              "      <td>926454</td>\n",
              "      <td>8.82476635514019%</td>\n",
              "      <td>64.63271028037383%</td>\n",
              "      <td>20.743925233644834%</td>\n",
              "      <td>0.25981308411214965%</td>\n",
              "      <td>3.2686915887850483%</td>\n",
              "      <td>NaN</td>\n",
              "      <td>61827.976636</td>\n",
              "      <td>448413M_478041F</td>\n",
              "      <td>448413</td>\n",
              "      <td>478041.0</td>\n",
              "    </tr>\n",
              "    <tr>\n",
              "      <th>3</th>\n",
              "      <td>3</td>\n",
              "      <td>District of Columbia</td>\n",
              "      <td>647484</td>\n",
              "      <td>9.165921787709499%</td>\n",
              "      <td>33.103910614525134%</td>\n",
              "      <td>51.77653631284915%</td>\n",
              "      <td>0.20055865921787713%</td>\n",
              "      <td>3.3832402234636865%</td>\n",
              "      <td>0.029608938547486034%</td>\n",
              "      <td>75466.363636</td>\n",
              "      <td>306674M_340810F</td>\n",
              "      <td>306674</td>\n",
              "      <td>340810.0</td>\n",
              "    </tr>\n",
              "    <tr>\n",
              "      <th>4</th>\n",
              "      <td>4</td>\n",
              "      <td>Florida</td>\n",
              "      <td>19645772</td>\n",
              "      <td>21.3385426653884%</td>\n",
              "      <td>59.08374880153398%</td>\n",
              "      <td>15.165675934803444%</td>\n",
              "      <td>0.2104506232023015%</td>\n",
              "      <td>2.2831735378715257%</td>\n",
              "      <td>0.05151006711409391%</td>\n",
              "      <td>50690.194987</td>\n",
              "      <td>9600009M_10045763F</td>\n",
              "      <td>9600009</td>\n",
              "      <td>10045763.0</td>\n",
              "    </tr>\n",
              "  </tbody>\n",
              "</table>\n",
              "</div>"
            ],
            "text/plain": [
              "   Unnamed: 0                 State  ...      Men       Women\n",
              "0           0              Colorado  ...  2648667   2630239.0\n",
              "1           1           Connecticut  ...  1751607   1841615.0\n",
              "2           2              Delaware  ...   448413    478041.0\n",
              "3           3  District of Columbia  ...   306674    340810.0\n",
              "4           4               Florida  ...  9600009  10045763.0\n",
              "\n",
              "[5 rows x 13 columns]"
            ]
          },
          "metadata": {
            "tags": []
          },
          "execution_count": 34
        }
      ]
    },
    {
      "cell_type": "code",
      "metadata": {
        "id": "QbvTAAYM5T2t",
        "colab_type": "code",
        "colab": {
          "base_uri": "https://localhost:8080/",
          "height": 68
        },
        "outputId": "dbb48240-b798-4d84-a295-80375414b225"
      },
      "source": [
        "#checking duplicates in state column\n",
        "duplicates = df.duplicated(subset=['State'])\n",
        "print(duplicates.value_counts())\n",
        "#Drop those duplicates \n",
        "df = df.drop_duplicates()"
      ],
      "execution_count": 35,
      "outputs": [
        {
          "output_type": "stream",
          "text": [
            "False    51\n",
            "True      9\n",
            "dtype: int64\n"
          ],
          "name": "stdout"
        }
      ]
    },
    {
      "cell_type": "code",
      "metadata": {
        "id": "mJ1gm-SJ5YX_",
        "colab_type": "code",
        "colab": {
          "base_uri": "https://localhost:8080/",
          "height": 279
        },
        "outputId": "93551a7c-897b-4341-97c6-5b0e17a80410"
      },
      "source": [
        "plt.scatter(df.Women, df.Income)\n",
        "plt.xlabel('Women')\n",
        "plt.ylabel('Income')\n",
        "plt.show() "
      ],
      "execution_count": 36,
      "outputs": [
        {
          "output_type": "display_data",
          "data": {
            "image/png": "[encoded data removed]",
            "text/plain": [
              "<Figure size 432x288 with 1 Axes>"
            ]
          },
          "metadata": {
            "tags": [],
            "needs_background": "light"
          }
        }
      ]
    },
    {
      "cell_type": "code",
      "metadata": {
        "id": "72d4och75nq0",
        "colab_type": "code",
        "colab": {
          "base_uri": "https://localhost:8080/",
          "height": 68
        },
        "outputId": "014e1e97-cccf-439a-8abd-57a2b0fc6ec2"
      },
      "source": [
        "print(df.columns)\n"
      ],
      "execution_count": 37,
      "outputs": [
        {
          "output_type": "stream",
          "text": [
            "Index(['Unnamed: 0', 'State', 'TotalPop', 'Hispanic', 'White', 'Black',\n",
            "       'Native', 'Asian', 'Pacific', 'Income', 'GenderPop', 'Men', 'Women'],\n",
            "      dtype='object')\n"
          ],
          "name": "stdout"
        }
      ]
    },
    {
      "cell_type": "code",
      "metadata": {
        "id": "KaMppVf75tyM",
        "colab_type": "code",
        "colab": {}
      },
      "source": [
        "#removing % sign and converting columns into numeric value\n",
        "df['Hispanic'] = df.Hispanic.str[:-1]\n",
        "df['Hispanic'] = pd.to_numeric(df.Hispanic)\n",
        "df['White'] = df.White.str[:-1]\n",
        "df['White'] = pd.to_numeric(df.White)\n",
        "df['Black'] = df.Black.str[:-1]\n",
        "df['Black'] = pd.to_numeric(df.Black)\n",
        "df['Native'] = df.Native.str[:-1]\n",
        "df['Native'] = pd.to_numeric(df.Native)\n",
        "df['Asian'] = df.Asian.str[:-1]\n",
        "df['Asian'] = pd.to_numeric(df.Asian)\n",
        "df['Pacific'] = df.Pacific.str[:-1]\n",
        "df['Pacific'] = pd.to_numeric(df.Pacific)\n",
        "\n",
        "df = df.fillna(value={\n",
        "'Hispanic': df.Hispanic.mean(),\n",
        "'White': df.White.mean(),\n",
        "'Black': df.Black.mean(),\n",
        "'Native': df.Native.mean(),\n",
        "'Asian': df.Asian.mean(),\n",
        "'Pacific': df.Pacific.mean(),\n",
        "})"
      ],
      "execution_count": 38,
      "outputs": []
    },
    {
      "cell_type": "code",
      "metadata": {
        "id": "0kxYZi-A6uGY",
        "colab_type": "code",
        "colab": {
          "base_uri": "https://localhost:8080/",
          "height": 1000
        },
        "outputId": "7907cced-9203-4c01-9fe1-1f8f8b12d5d4"
      },
      "source": [
        "\n",
        "plt.hist(df['Hispanic'])\n",
        "plt.title('Hispanic')\n",
        "plt.show()\n",
        "plt.hist(df['White'])\n",
        "plt.title('White')\n",
        "plt.show()\n",
        "plt.cla()\n",
        "\n",
        "plt.hist(df['Black'])\n",
        "plt.title('Black')\n",
        "plt.show()\n",
        "plt.cla()\n",
        "\n",
        "plt.hist(df['Native'])\n",
        "plt.title('Native')\n",
        "plt.show()\n",
        "plt.cla()\n",
        "\n",
        "plt.hist(df['Pacific'])\n",
        "plt.title('Pacific')\n",
        "plt.show()\n",
        "plt.cla()\n",
        "\n",
        "plt.hist(df['Asian'])\n",
        "plt.title('Asian')\n",
        "plt.show()\n",
        "\n"
      ],
      "execution_count": 41,
      "outputs": [
        {
          "output_type": "display_data",
          "data": {
            "image/png": "[encoded data removed]",
            "text/plain": [
              "<Figure size 432x288 with 1 Axes>"
            ]
          },
          "metadata": {
            "tags": [],
            "needs_background": "light"
          }
        },
        {
          "output_type": "display_data",
          "data": {
            "image/png": "[encoded data removed]",
            "text/plain": [
              "<Figure size 432x288 with 1 Axes>"
            ]
          },
          "metadata": {
            "tags": [],
            "needs_background": "light"
          }
        },
        {
          "output_type": "display_data",
          "data": {
            "image/png": "[encoded data removed]",
            "text/plain": [
              "<Figure size 432x288 with 1 Axes>"
            ]
          },
          "metadata": {
            "tags": [],
            "needs_background": "light"
          }
        },
        {
          "output_type": "display_data",
          "data": {
            "image/png": "[encoded data removed]",
            "text/plain": [
              "<Figure size 432x288 with 1 Axes>"
            ]
          },
          "metadata": {
            "tags": [],
            "needs_background": "light"
          }
        },
        {
          "output_type": "display_data",
          "data": {
            "image/png": "[encoded data removed]",
            "text/plain": [
              "<Figure size 432x288 with 1 Axes>"
            ]
          },
          "metadata": {
            "tags": [],
            "needs_background": "light"
          }
        },
        {
          "output_type": "display_data",
          "data": {
            "image/png": "[encoded data removed]",
            "text/plain": [
              "<Figure size 432x288 with 1 Axes>"
            ]
          },
          "metadata": {
            "tags": [],
            "needs_background": "light"
          }
        }
      ]
    },
    {
      "cell_type": "code",
      "metadata": {
        "id": "oTczTAoc636Y",
        "colab_type": "code",
        "colab": {
          "base_uri": "https://localhost:8080/",
          "height": 391
        },
        "outputId": "47aab3d6-7f82-492a-f7fd-9ede2d63e81c"
      },
      "source": [
        "print(df.head())\n",
        "print(df.dtypes)"
      ],
      "execution_count": 42,
      "outputs": [
        {
          "output_type": "stream",
          "text": [
            "   Unnamed: 0                 State  ...      Men       Women\n",
            "0           0              Colorado  ...  2648667   2630239.0\n",
            "1           1           Connecticut  ...  1751607   1841615.0\n",
            "2           2              Delaware  ...   448413    478041.0\n",
            "3           3  District of Columbia  ...   306674    340810.0\n",
            "4           4               Florida  ...  9600009  10045763.0\n",
            "\n",
            "[5 rows x 13 columns]\n",
            "Unnamed: 0      int64\n",
            "State          object\n",
            "TotalPop        int64\n",
            "Hispanic      float64\n",
            "White         float64\n",
            "Black         float64\n",
            "Native        float64\n",
            "Asian         float64\n",
            "Pacific       float64\n",
            "Income        float64\n",
            "GenderPop      object\n",
            "Men             int64\n",
            "Women         float64\n",
            "dtype: object\n"
          ],
          "name": "stdout"
        }
      ]
    }
  ]
}